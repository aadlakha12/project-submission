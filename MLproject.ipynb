{
 "cells": [
  {
   "cell_type": "markdown",
   "metadata": {},
   "source": [
    "## Recommendation Engine\n",
    "\n",
    "Recommendation Engine helps to get the similar items to users or items to similar users to recommend. This is based on collaborative filtering. \n",
    "\n",
    "- User User Filtering \n",
    "- Item Item Filtering"
   ]
  },
  {
   "cell_type": "markdown",
   "metadata": {},
   "source": [
    "### Libraries"
   ]
  },
  {
   "cell_type": "code",
   "execution_count": 1,
   "metadata": {},
   "outputs": [],
   "source": [
    "import pandas as pd;\n",
    "import numpy as np;\n",
    "import matplotlib.pyplot as plt;\n",
    "import seaborn as sns;\n",
    "import math\n",
    "from sklearn.metrics.pairwise import cosine_similarity\n",
    "import tkinter as tk\n",
    "from tkinter import StringVar\n",
    "from tkinter import messagebox"
   ]
  },
  {
   "cell_type": "markdown",
   "metadata": {},
   "source": [
    "### Users data"
   ]
  },
  {
   "cell_type": "code",
   "execution_count": 2,
   "metadata": {},
   "outputs": [],
   "source": [
    "dataUsers = pd.read_csv('BX-Users.csv', error_bad_lines=False, encoding = 'ISO-8859-1', delimiter=';')"
   ]
  },
  {
   "cell_type": "code",
   "execution_count": 3,
   "metadata": {},
   "outputs": [
    {
     "data": {
      "text/html": [
       "<div>\n",
       "<style scoped>\n",
       "    .dataframe tbody tr th:only-of-type {\n",
       "        vertical-align: middle;\n",
       "    }\n",
       "\n",
       "    .dataframe tbody tr th {\n",
       "        vertical-align: top;\n",
       "    }\n",
       "\n",
       "    .dataframe thead th {\n",
       "        text-align: right;\n",
       "    }\n",
       "</style>\n",
       "<table border=\"1\" class=\"dataframe\">\n",
       "  <thead>\n",
       "    <tr style=\"text-align: right;\">\n",
       "      <th></th>\n",
       "      <th>User-ID</th>\n",
       "      <th>Location</th>\n",
       "      <th>Age</th>\n",
       "    </tr>\n",
       "  </thead>\n",
       "  <tbody>\n",
       "    <tr>\n",
       "      <td>0</td>\n",
       "      <td>1</td>\n",
       "      <td>nyc, new york, usa</td>\n",
       "      <td>NaN</td>\n",
       "    </tr>\n",
       "    <tr>\n",
       "      <td>1</td>\n",
       "      <td>2</td>\n",
       "      <td>stockton, california, usa</td>\n",
       "      <td>18.0</td>\n",
       "    </tr>\n",
       "    <tr>\n",
       "      <td>2</td>\n",
       "      <td>3</td>\n",
       "      <td>moscow, yukon territory, russia</td>\n",
       "      <td>NaN</td>\n",
       "    </tr>\n",
       "    <tr>\n",
       "      <td>3</td>\n",
       "      <td>4</td>\n",
       "      <td>porto, v.n.gaia, portugal</td>\n",
       "      <td>17.0</td>\n",
       "    </tr>\n",
       "    <tr>\n",
       "      <td>4</td>\n",
       "      <td>5</td>\n",
       "      <td>farnborough, hants, united kingdom</td>\n",
       "      <td>NaN</td>\n",
       "    </tr>\n",
       "  </tbody>\n",
       "</table>\n",
       "</div>"
      ],
      "text/plain": [
       "   User-ID                            Location   Age\n",
       "0        1                  nyc, new york, usa   NaN\n",
       "1        2           stockton, california, usa  18.0\n",
       "2        3     moscow, yukon territory, russia   NaN\n",
       "3        4           porto, v.n.gaia, portugal  17.0\n",
       "4        5  farnborough, hants, united kingdom   NaN"
      ]
     },
     "execution_count": 3,
     "metadata": {},
     "output_type": "execute_result"
    }
   ],
   "source": [
    "dataUsers.head()"
   ]
  },
  {
   "cell_type": "code",
   "execution_count": 4,
   "metadata": {},
   "outputs": [
    {
     "data": {
      "text/plain": [
       "(278858, 3)"
      ]
     },
     "execution_count": 4,
     "metadata": {},
     "output_type": "execute_result"
    }
   ],
   "source": [
    "dataUsers.shape"
   ]
  },
  {
   "cell_type": "markdown",
   "metadata": {},
   "source": [
    "### Books data"
   ]
  },
  {
   "cell_type": "code",
   "execution_count": 5,
   "metadata": {
    "scrolled": true
   },
   "outputs": [
    {
     "name": "stderr",
     "output_type": "stream",
     "text": [
      "b'Skipping line 6452: expected 8 fields, saw 9\\nSkipping line 43667: expected 8 fields, saw 10\\nSkipping line 51751: expected 8 fields, saw 9\\n'\n",
      "b'Skipping line 92038: expected 8 fields, saw 9\\nSkipping line 104319: expected 8 fields, saw 9\\nSkipping line 121768: expected 8 fields, saw 9\\n'\n",
      "b'Skipping line 144058: expected 8 fields, saw 9\\nSkipping line 150789: expected 8 fields, saw 9\\nSkipping line 157128: expected 8 fields, saw 9\\nSkipping line 180189: expected 8 fields, saw 9\\nSkipping line 185738: expected 8 fields, saw 9\\n'\n",
      "b'Skipping line 209388: expected 8 fields, saw 9\\nSkipping line 220626: expected 8 fields, saw 9\\nSkipping line 227933: expected 8 fields, saw 11\\nSkipping line 228957: expected 8 fields, saw 10\\nSkipping line 245933: expected 8 fields, saw 9\\nSkipping line 251296: expected 8 fields, saw 9\\nSkipping line 259941: expected 8 fields, saw 9\\nSkipping line 261529: expected 8 fields, saw 9\\n'\n",
      "/Users/akshayadlakha/opt/anaconda3/lib/python3.7/site-packages/IPython/core/interactiveshell.py:3058: DtypeWarning: Columns (3) have mixed types. Specify dtype option on import or set low_memory=False.\n",
      "  interactivity=interactivity, compiler=compiler, result=result)\n"
     ]
    }
   ],
   "source": [
    "dataBooks = pd.read_csv('BX-Books.csv', error_bad_lines=False, encoding = 'ISO-8859-1', delimiter=';')"
   ]
  },
  {
   "cell_type": "code",
   "execution_count": 6,
   "metadata": {},
   "outputs": [
    {
     "data": {
      "text/html": [
       "<div>\n",
       "<style scoped>\n",
       "    .dataframe tbody tr th:only-of-type {\n",
       "        vertical-align: middle;\n",
       "    }\n",
       "\n",
       "    .dataframe tbody tr th {\n",
       "        vertical-align: top;\n",
       "    }\n",
       "\n",
       "    .dataframe thead th {\n",
       "        text-align: right;\n",
       "    }\n",
       "</style>\n",
       "<table border=\"1\" class=\"dataframe\">\n",
       "  <thead>\n",
       "    <tr style=\"text-align: right;\">\n",
       "      <th></th>\n",
       "      <th>ISBN</th>\n",
       "      <th>Book-Title</th>\n",
       "      <th>Book-Author</th>\n",
       "      <th>Year-Of-Publication</th>\n",
       "      <th>Publisher</th>\n",
       "      <th>Image-URL-S</th>\n",
       "      <th>Image-URL-M</th>\n",
       "      <th>Image-URL-L</th>\n",
       "    </tr>\n",
       "  </thead>\n",
       "  <tbody>\n",
       "    <tr>\n",
       "      <td>0</td>\n",
       "      <td>0195153448</td>\n",
       "      <td>Classical Mythology</td>\n",
       "      <td>Mark P. O. Morford</td>\n",
       "      <td>2002</td>\n",
       "      <td>Oxford University Press</td>\n",
       "      <td>http://images.amazon.com/images/P/0195153448.0...</td>\n",
       "      <td>http://images.amazon.com/images/P/0195153448.0...</td>\n",
       "      <td>http://images.amazon.com/images/P/0195153448.0...</td>\n",
       "    </tr>\n",
       "    <tr>\n",
       "      <td>1</td>\n",
       "      <td>0002005018</td>\n",
       "      <td>Clara Callan</td>\n",
       "      <td>Richard Bruce Wright</td>\n",
       "      <td>2001</td>\n",
       "      <td>HarperFlamingo Canada</td>\n",
       "      <td>http://images.amazon.com/images/P/0002005018.0...</td>\n",
       "      <td>http://images.amazon.com/images/P/0002005018.0...</td>\n",
       "      <td>http://images.amazon.com/images/P/0002005018.0...</td>\n",
       "    </tr>\n",
       "    <tr>\n",
       "      <td>2</td>\n",
       "      <td>0060973129</td>\n",
       "      <td>Decision in Normandy</td>\n",
       "      <td>Carlo D'Este</td>\n",
       "      <td>1991</td>\n",
       "      <td>HarperPerennial</td>\n",
       "      <td>http://images.amazon.com/images/P/0060973129.0...</td>\n",
       "      <td>http://images.amazon.com/images/P/0060973129.0...</td>\n",
       "      <td>http://images.amazon.com/images/P/0060973129.0...</td>\n",
       "    </tr>\n",
       "    <tr>\n",
       "      <td>3</td>\n",
       "      <td>0374157065</td>\n",
       "      <td>Flu: The Story of the Great Influenza Pandemic...</td>\n",
       "      <td>Gina Bari Kolata</td>\n",
       "      <td>1999</td>\n",
       "      <td>Farrar Straus Giroux</td>\n",
       "      <td>http://images.amazon.com/images/P/0374157065.0...</td>\n",
       "      <td>http://images.amazon.com/images/P/0374157065.0...</td>\n",
       "      <td>http://images.amazon.com/images/P/0374157065.0...</td>\n",
       "    </tr>\n",
       "    <tr>\n",
       "      <td>4</td>\n",
       "      <td>0393045218</td>\n",
       "      <td>The Mummies of Urumchi</td>\n",
       "      <td>E. J. W. Barber</td>\n",
       "      <td>1999</td>\n",
       "      <td>W. W. Norton &amp;amp; Company</td>\n",
       "      <td>http://images.amazon.com/images/P/0393045218.0...</td>\n",
       "      <td>http://images.amazon.com/images/P/0393045218.0...</td>\n",
       "      <td>http://images.amazon.com/images/P/0393045218.0...</td>\n",
       "    </tr>\n",
       "  </tbody>\n",
       "</table>\n",
       "</div>"
      ],
      "text/plain": [
       "         ISBN                                         Book-Title  \\\n",
       "0  0195153448                                Classical Mythology   \n",
       "1  0002005018                                       Clara Callan   \n",
       "2  0060973129                               Decision in Normandy   \n",
       "3  0374157065  Flu: The Story of the Great Influenza Pandemic...   \n",
       "4  0393045218                             The Mummies of Urumchi   \n",
       "\n",
       "            Book-Author Year-Of-Publication                   Publisher  \\\n",
       "0    Mark P. O. Morford                2002     Oxford University Press   \n",
       "1  Richard Bruce Wright                2001       HarperFlamingo Canada   \n",
       "2          Carlo D'Este                1991             HarperPerennial   \n",
       "3      Gina Bari Kolata                1999        Farrar Straus Giroux   \n",
       "4       E. J. W. Barber                1999  W. W. Norton &amp; Company   \n",
       "\n",
       "                                         Image-URL-S  \\\n",
       "0  http://images.amazon.com/images/P/0195153448.0...   \n",
       "1  http://images.amazon.com/images/P/0002005018.0...   \n",
       "2  http://images.amazon.com/images/P/0060973129.0...   \n",
       "3  http://images.amazon.com/images/P/0374157065.0...   \n",
       "4  http://images.amazon.com/images/P/0393045218.0...   \n",
       "\n",
       "                                         Image-URL-M  \\\n",
       "0  http://images.amazon.com/images/P/0195153448.0...   \n",
       "1  http://images.amazon.com/images/P/0002005018.0...   \n",
       "2  http://images.amazon.com/images/P/0060973129.0...   \n",
       "3  http://images.amazon.com/images/P/0374157065.0...   \n",
       "4  http://images.amazon.com/images/P/0393045218.0...   \n",
       "\n",
       "                                         Image-URL-L  \n",
       "0  http://images.amazon.com/images/P/0195153448.0...  \n",
       "1  http://images.amazon.com/images/P/0002005018.0...  \n",
       "2  http://images.amazon.com/images/P/0060973129.0...  \n",
       "3  http://images.amazon.com/images/P/0374157065.0...  \n",
       "4  http://images.amazon.com/images/P/0393045218.0...  "
      ]
     },
     "execution_count": 6,
     "metadata": {},
     "output_type": "execute_result"
    }
   ],
   "source": [
    "dataBooks.head()"
   ]
  },
  {
   "cell_type": "markdown",
   "metadata": {},
   "source": [
    "### Ratings "
   ]
  },
  {
   "cell_type": "code",
   "execution_count": 7,
   "metadata": {},
   "outputs": [],
   "source": [
    "dataRatings = pd.read_csv('BX-Book-Ratings.csv', error_bad_lines=False, encoding = 'ISO-8859-1', delimiter=';')"
   ]
  },
  {
   "cell_type": "code",
   "execution_count": 8,
   "metadata": {},
   "outputs": [
    {
     "data": {
      "text/html": [
       "<div>\n",
       "<style scoped>\n",
       "    .dataframe tbody tr th:only-of-type {\n",
       "        vertical-align: middle;\n",
       "    }\n",
       "\n",
       "    .dataframe tbody tr th {\n",
       "        vertical-align: top;\n",
       "    }\n",
       "\n",
       "    .dataframe thead th {\n",
       "        text-align: right;\n",
       "    }\n",
       "</style>\n",
       "<table border=\"1\" class=\"dataframe\">\n",
       "  <thead>\n",
       "    <tr style=\"text-align: right;\">\n",
       "      <th></th>\n",
       "      <th>User-ID</th>\n",
       "      <th>ISBN</th>\n",
       "      <th>Book-Rating</th>\n",
       "    </tr>\n",
       "  </thead>\n",
       "  <tbody>\n",
       "    <tr>\n",
       "      <td>0</td>\n",
       "      <td>276725</td>\n",
       "      <td>034545104X</td>\n",
       "      <td>0</td>\n",
       "    </tr>\n",
       "    <tr>\n",
       "      <td>1</td>\n",
       "      <td>276726</td>\n",
       "      <td>0155061224</td>\n",
       "      <td>5</td>\n",
       "    </tr>\n",
       "    <tr>\n",
       "      <td>2</td>\n",
       "      <td>276727</td>\n",
       "      <td>0446520802</td>\n",
       "      <td>0</td>\n",
       "    </tr>\n",
       "    <tr>\n",
       "      <td>3</td>\n",
       "      <td>276729</td>\n",
       "      <td>052165615X</td>\n",
       "      <td>3</td>\n",
       "    </tr>\n",
       "    <tr>\n",
       "      <td>4</td>\n",
       "      <td>276729</td>\n",
       "      <td>0521795028</td>\n",
       "      <td>6</td>\n",
       "    </tr>\n",
       "  </tbody>\n",
       "</table>\n",
       "</div>"
      ],
      "text/plain": [
       "   User-ID        ISBN  Book-Rating\n",
       "0   276725  034545104X            0\n",
       "1   276726  0155061224            5\n",
       "2   276727  0446520802            0\n",
       "3   276729  052165615X            3\n",
       "4   276729  0521795028            6"
      ]
     },
     "execution_count": 8,
     "metadata": {},
     "output_type": "execute_result"
    }
   ],
   "source": [
    "dataRatings.head()"
   ]
  },
  {
   "cell_type": "code",
   "execution_count": 9,
   "metadata": {},
   "outputs": [],
   "source": [
    "### Combining all the data into one dataframe"
   ]
  },
  {
   "cell_type": "code",
   "execution_count": 10,
   "metadata": {},
   "outputs": [],
   "source": [
    "data = pd.merge(dataRatings, dataUsers, on='User-ID', how='inner')"
   ]
  },
  {
   "cell_type": "code",
   "execution_count": 11,
   "metadata": {},
   "outputs": [
    {
     "data": {
      "text/html": [
       "<div>\n",
       "<style scoped>\n",
       "    .dataframe tbody tr th:only-of-type {\n",
       "        vertical-align: middle;\n",
       "    }\n",
       "\n",
       "    .dataframe tbody tr th {\n",
       "        vertical-align: top;\n",
       "    }\n",
       "\n",
       "    .dataframe thead th {\n",
       "        text-align: right;\n",
       "    }\n",
       "</style>\n",
       "<table border=\"1\" class=\"dataframe\">\n",
       "  <thead>\n",
       "    <tr style=\"text-align: right;\">\n",
       "      <th></th>\n",
       "      <th>User-ID</th>\n",
       "      <th>ISBN</th>\n",
       "      <th>Book-Rating</th>\n",
       "      <th>Location</th>\n",
       "      <th>Age</th>\n",
       "    </tr>\n",
       "  </thead>\n",
       "  <tbody>\n",
       "    <tr>\n",
       "      <td>0</td>\n",
       "      <td>276725</td>\n",
       "      <td>034545104X</td>\n",
       "      <td>0</td>\n",
       "      <td>tyler, texas, usa</td>\n",
       "      <td>NaN</td>\n",
       "    </tr>\n",
       "    <tr>\n",
       "      <td>1</td>\n",
       "      <td>276726</td>\n",
       "      <td>0155061224</td>\n",
       "      <td>5</td>\n",
       "      <td>seattle, washington, usa</td>\n",
       "      <td>NaN</td>\n",
       "    </tr>\n",
       "    <tr>\n",
       "      <td>2</td>\n",
       "      <td>276727</td>\n",
       "      <td>0446520802</td>\n",
       "      <td>0</td>\n",
       "      <td>h, new south wales, australia</td>\n",
       "      <td>16.0</td>\n",
       "    </tr>\n",
       "    <tr>\n",
       "      <td>3</td>\n",
       "      <td>276729</td>\n",
       "      <td>052165615X</td>\n",
       "      <td>3</td>\n",
       "      <td>rijeka, n/a, croatia</td>\n",
       "      <td>16.0</td>\n",
       "    </tr>\n",
       "    <tr>\n",
       "      <td>4</td>\n",
       "      <td>276729</td>\n",
       "      <td>0521795028</td>\n",
       "      <td>6</td>\n",
       "      <td>rijeka, n/a, croatia</td>\n",
       "      <td>16.0</td>\n",
       "    </tr>\n",
       "  </tbody>\n",
       "</table>\n",
       "</div>"
      ],
      "text/plain": [
       "   User-ID        ISBN  Book-Rating                       Location   Age\n",
       "0   276725  034545104X            0              tyler, texas, usa   NaN\n",
       "1   276726  0155061224            5       seattle, washington, usa   NaN\n",
       "2   276727  0446520802            0  h, new south wales, australia  16.0\n",
       "3   276729  052165615X            3           rijeka, n/a, croatia  16.0\n",
       "4   276729  0521795028            6           rijeka, n/a, croatia  16.0"
      ]
     },
     "execution_count": 11,
     "metadata": {},
     "output_type": "execute_result"
    }
   ],
   "source": [
    "data.head()"
   ]
  },
  {
   "cell_type": "code",
   "execution_count": 12,
   "metadata": {},
   "outputs": [],
   "source": [
    "data = pd.merge(data, dataBooks, on='ISBN', how='inner')"
   ]
  },
  {
   "cell_type": "code",
   "execution_count": 13,
   "metadata": {},
   "outputs": [
    {
     "data": {
      "text/plain": [
       "(1031136, 12)"
      ]
     },
     "execution_count": 13,
     "metadata": {},
     "output_type": "execute_result"
    }
   ],
   "source": [
    "data.shape"
   ]
  },
  {
   "cell_type": "code",
   "execution_count": 14,
   "metadata": {},
   "outputs": [
    {
     "data": {
      "text/html": [
       "<div>\n",
       "<style scoped>\n",
       "    .dataframe tbody tr th:only-of-type {\n",
       "        vertical-align: middle;\n",
       "    }\n",
       "\n",
       "    .dataframe tbody tr th {\n",
       "        vertical-align: top;\n",
       "    }\n",
       "\n",
       "    .dataframe thead th {\n",
       "        text-align: right;\n",
       "    }\n",
       "</style>\n",
       "<table border=\"1\" class=\"dataframe\">\n",
       "  <thead>\n",
       "    <tr style=\"text-align: right;\">\n",
       "      <th></th>\n",
       "      <th>User-ID</th>\n",
       "      <th>ISBN</th>\n",
       "      <th>Book-Rating</th>\n",
       "      <th>Location</th>\n",
       "      <th>Age</th>\n",
       "      <th>Book-Title</th>\n",
       "      <th>Book-Author</th>\n",
       "      <th>Year-Of-Publication</th>\n",
       "      <th>Publisher</th>\n",
       "      <th>Image-URL-S</th>\n",
       "      <th>Image-URL-M</th>\n",
       "      <th>Image-URL-L</th>\n",
       "    </tr>\n",
       "  </thead>\n",
       "  <tbody>\n",
       "    <tr>\n",
       "      <td>0</td>\n",
       "      <td>276725</td>\n",
       "      <td>034545104X</td>\n",
       "      <td>0</td>\n",
       "      <td>tyler, texas, usa</td>\n",
       "      <td>NaN</td>\n",
       "      <td>Flesh Tones: A Novel</td>\n",
       "      <td>M. J. Rose</td>\n",
       "      <td>2002</td>\n",
       "      <td>Ballantine Books</td>\n",
       "      <td>http://images.amazon.com/images/P/034545104X.0...</td>\n",
       "      <td>http://images.amazon.com/images/P/034545104X.0...</td>\n",
       "      <td>http://images.amazon.com/images/P/034545104X.0...</td>\n",
       "    </tr>\n",
       "    <tr>\n",
       "      <td>1</td>\n",
       "      <td>2313</td>\n",
       "      <td>034545104X</td>\n",
       "      <td>5</td>\n",
       "      <td>cincinnati, ohio, usa</td>\n",
       "      <td>23.0</td>\n",
       "      <td>Flesh Tones: A Novel</td>\n",
       "      <td>M. J. Rose</td>\n",
       "      <td>2002</td>\n",
       "      <td>Ballantine Books</td>\n",
       "      <td>http://images.amazon.com/images/P/034545104X.0...</td>\n",
       "      <td>http://images.amazon.com/images/P/034545104X.0...</td>\n",
       "      <td>http://images.amazon.com/images/P/034545104X.0...</td>\n",
       "    </tr>\n",
       "    <tr>\n",
       "      <td>2</td>\n",
       "      <td>6543</td>\n",
       "      <td>034545104X</td>\n",
       "      <td>0</td>\n",
       "      <td>strafford, missouri, usa</td>\n",
       "      <td>34.0</td>\n",
       "      <td>Flesh Tones: A Novel</td>\n",
       "      <td>M. J. Rose</td>\n",
       "      <td>2002</td>\n",
       "      <td>Ballantine Books</td>\n",
       "      <td>http://images.amazon.com/images/P/034545104X.0...</td>\n",
       "      <td>http://images.amazon.com/images/P/034545104X.0...</td>\n",
       "      <td>http://images.amazon.com/images/P/034545104X.0...</td>\n",
       "    </tr>\n",
       "    <tr>\n",
       "      <td>3</td>\n",
       "      <td>8680</td>\n",
       "      <td>034545104X</td>\n",
       "      <td>5</td>\n",
       "      <td>st. charles county, missouri, usa</td>\n",
       "      <td>2.0</td>\n",
       "      <td>Flesh Tones: A Novel</td>\n",
       "      <td>M. J. Rose</td>\n",
       "      <td>2002</td>\n",
       "      <td>Ballantine Books</td>\n",
       "      <td>http://images.amazon.com/images/P/034545104X.0...</td>\n",
       "      <td>http://images.amazon.com/images/P/034545104X.0...</td>\n",
       "      <td>http://images.amazon.com/images/P/034545104X.0...</td>\n",
       "    </tr>\n",
       "    <tr>\n",
       "      <td>4</td>\n",
       "      <td>10314</td>\n",
       "      <td>034545104X</td>\n",
       "      <td>9</td>\n",
       "      <td>beaverton, oregon, usa</td>\n",
       "      <td>NaN</td>\n",
       "      <td>Flesh Tones: A Novel</td>\n",
       "      <td>M. J. Rose</td>\n",
       "      <td>2002</td>\n",
       "      <td>Ballantine Books</td>\n",
       "      <td>http://images.amazon.com/images/P/034545104X.0...</td>\n",
       "      <td>http://images.amazon.com/images/P/034545104X.0...</td>\n",
       "      <td>http://images.amazon.com/images/P/034545104X.0...</td>\n",
       "    </tr>\n",
       "  </tbody>\n",
       "</table>\n",
       "</div>"
      ],
      "text/plain": [
       "   User-ID        ISBN  Book-Rating                           Location   Age  \\\n",
       "0   276725  034545104X            0                  tyler, texas, usa   NaN   \n",
       "1     2313  034545104X            5              cincinnati, ohio, usa  23.0   \n",
       "2     6543  034545104X            0           strafford, missouri, usa  34.0   \n",
       "3     8680  034545104X            5  st. charles county, missouri, usa   2.0   \n",
       "4    10314  034545104X            9             beaverton, oregon, usa   NaN   \n",
       "\n",
       "             Book-Title Book-Author Year-Of-Publication         Publisher  \\\n",
       "0  Flesh Tones: A Novel  M. J. Rose                2002  Ballantine Books   \n",
       "1  Flesh Tones: A Novel  M. J. Rose                2002  Ballantine Books   \n",
       "2  Flesh Tones: A Novel  M. J. Rose                2002  Ballantine Books   \n",
       "3  Flesh Tones: A Novel  M. J. Rose                2002  Ballantine Books   \n",
       "4  Flesh Tones: A Novel  M. J. Rose                2002  Ballantine Books   \n",
       "\n",
       "                                         Image-URL-S  \\\n",
       "0  http://images.amazon.com/images/P/034545104X.0...   \n",
       "1  http://images.amazon.com/images/P/034545104X.0...   \n",
       "2  http://images.amazon.com/images/P/034545104X.0...   \n",
       "3  http://images.amazon.com/images/P/034545104X.0...   \n",
       "4  http://images.amazon.com/images/P/034545104X.0...   \n",
       "\n",
       "                                         Image-URL-M  \\\n",
       "0  http://images.amazon.com/images/P/034545104X.0...   \n",
       "1  http://images.amazon.com/images/P/034545104X.0...   \n",
       "2  http://images.amazon.com/images/P/034545104X.0...   \n",
       "3  http://images.amazon.com/images/P/034545104X.0...   \n",
       "4  http://images.amazon.com/images/P/034545104X.0...   \n",
       "\n",
       "                                         Image-URL-L  \n",
       "0  http://images.amazon.com/images/P/034545104X.0...  \n",
       "1  http://images.amazon.com/images/P/034545104X.0...  \n",
       "2  http://images.amazon.com/images/P/034545104X.0...  \n",
       "3  http://images.amazon.com/images/P/034545104X.0...  \n",
       "4  http://images.amazon.com/images/P/034545104X.0...  "
      ]
     },
     "execution_count": 14,
     "metadata": {},
     "output_type": "execute_result"
    }
   ],
   "source": [
    "data.head()"
   ]
  },
  {
   "cell_type": "markdown",
   "metadata": {},
   "source": [
    "### EDA and Data Cleaning"
   ]
  },
  {
   "cell_type": "code",
   "execution_count": 15,
   "metadata": {},
   "outputs": [
    {
     "data": {
      "text/plain": [
       "92106"
      ]
     },
     "execution_count": 15,
     "metadata": {},
     "output_type": "execute_result"
    }
   ],
   "source": [
    "# unique users in data\n",
    "len(list(data['User-ID'].unique()))"
   ]
  },
  {
   "cell_type": "code",
   "execution_count": 16,
   "metadata": {},
   "outputs": [
    {
     "data": {
      "text/plain": [
       "270151"
      ]
     },
     "execution_count": 16,
     "metadata": {},
     "output_type": "execute_result"
    }
   ],
   "source": [
    "# no. of books in data\n",
    "len(list(data['ISBN'].unique()))"
   ]
  },
  {
   "cell_type": "code",
   "execution_count": 18,
   "metadata": {},
   "outputs": [
    {
     "data": {
      "text/plain": [
       "Wild Animus                                   2502\n",
       "The Lovely Bones: A Novel                     1295\n",
       "The Da Vinci Code                              898\n",
       "A Painted House                                838\n",
       "The Nanny Diaries: A Novel                     828\n",
       "                                              ... \n",
       "Lord Brandsley's Bride (Coventry Romances)       1\n",
       "Presenting Mark Russell                          1\n",
       "The puppet master: A novel                       1\n",
       "Sunshine for the Lds Soul                        1\n",
       "Animalia (Picture Puffins)                       1\n",
       "Name: Book-Title, Length: 241071, dtype: int64"
      ]
     },
     "execution_count": 18,
     "metadata": {},
     "output_type": "execute_result"
    }
   ],
   "source": [
    "# Count of each books that has been rated by users.\n",
    "data['Book-Title'].value_counts()"
   ]
  },
  {
   "cell_type": "code",
   "execution_count": 19,
   "metadata": {},
   "outputs": [
    {
     "data": {
      "text/plain": [
       "User-ID                     0\n",
       "ISBN                        0\n",
       "Book-Rating                 0\n",
       "Location                    0\n",
       "Age                    277835\n",
       "Book-Title                  0\n",
       "Book-Author                 1\n",
       "Year-Of-Publication         0\n",
       "Publisher                   2\n",
       "Image-URL-S                 0\n",
       "Image-URL-M                 0\n",
       "Image-URL-L                 4\n",
       "dtype: int64"
      ]
     },
     "execution_count": 19,
     "metadata": {},
     "output_type": "execute_result"
    }
   ],
   "source": [
    "# checking null/missing values in data\n",
    "data.isnull().sum()"
   ]
  },
  {
   "cell_type": "code",
   "execution_count": 20,
   "metadata": {},
   "outputs": [],
   "source": [
    "# dropping age, Image-URL-L, Image-URL-M and Image-URL-S\n",
    "data.drop([\"Age\",'Image-URL-S','Image-URL-M','Image-URL-L'],axis=1,inplace=True)"
   ]
  },
  {
   "cell_type": "code",
   "execution_count": 21,
   "metadata": {},
   "outputs": [
    {
     "data": {
      "text/plain": [
       "User-ID                0\n",
       "ISBN                   0\n",
       "Book-Rating            0\n",
       "Location               0\n",
       "Book-Title             0\n",
       "Book-Author            1\n",
       "Year-Of-Publication    0\n",
       "Publisher              2\n",
       "dtype: int64"
      ]
     },
     "execution_count": 21,
     "metadata": {},
     "output_type": "execute_result"
    }
   ],
   "source": [
    "data.isnull().sum()"
   ]
  },
  {
   "cell_type": "code",
   "execution_count": 22,
   "metadata": {},
   "outputs": [],
   "source": [
    "data.dropna(inplace=True)"
   ]
  },
  {
   "cell_type": "code",
   "execution_count": 23,
   "metadata": {},
   "outputs": [
    {
     "data": {
      "text/plain": [
       "User-ID                0\n",
       "ISBN                   0\n",
       "Book-Rating            0\n",
       "Location               0\n",
       "Book-Title             0\n",
       "Book-Author            0\n",
       "Year-Of-Publication    0\n",
       "Publisher              0\n",
       "dtype: int64"
      ]
     },
     "execution_count": 23,
     "metadata": {},
     "output_type": "execute_result"
    }
   ],
   "source": [
    "data.isnull().sum()"
   ]
  },
  {
   "cell_type": "code",
   "execution_count": 24,
   "metadata": {},
   "outputs": [
    {
     "data": {
      "text/plain": [
       "(1031133, 8)"
      ]
     },
     "execution_count": 24,
     "metadata": {},
     "output_type": "execute_result"
    }
   ],
   "source": [
    "data.shape"
   ]
  },
  {
   "cell_type": "code",
   "execution_count": 25,
   "metadata": {},
   "outputs": [
    {
     "data": {
      "text/html": [
       "<div>\n",
       "<style scoped>\n",
       "    .dataframe tbody tr th:only-of-type {\n",
       "        vertical-align: middle;\n",
       "    }\n",
       "\n",
       "    .dataframe tbody tr th {\n",
       "        vertical-align: top;\n",
       "    }\n",
       "\n",
       "    .dataframe thead th {\n",
       "        text-align: right;\n",
       "    }\n",
       "</style>\n",
       "<table border=\"1\" class=\"dataframe\">\n",
       "  <thead>\n",
       "    <tr style=\"text-align: right;\">\n",
       "      <th></th>\n",
       "      <th>User-ID</th>\n",
       "      <th>ISBN</th>\n",
       "      <th>Book-Rating</th>\n",
       "      <th>Location</th>\n",
       "      <th>Book-Title</th>\n",
       "      <th>Book-Author</th>\n",
       "      <th>Year-Of-Publication</th>\n",
       "      <th>Publisher</th>\n",
       "    </tr>\n",
       "  </thead>\n",
       "  <tbody>\n",
       "    <tr>\n",
       "      <td>0</td>\n",
       "      <td>276725</td>\n",
       "      <td>034545104X</td>\n",
       "      <td>0</td>\n",
       "      <td>tyler, texas, usa</td>\n",
       "      <td>Flesh Tones: A Novel</td>\n",
       "      <td>M. J. Rose</td>\n",
       "      <td>2002</td>\n",
       "      <td>Ballantine Books</td>\n",
       "    </tr>\n",
       "    <tr>\n",
       "      <td>1</td>\n",
       "      <td>2313</td>\n",
       "      <td>034545104X</td>\n",
       "      <td>5</td>\n",
       "      <td>cincinnati, ohio, usa</td>\n",
       "      <td>Flesh Tones: A Novel</td>\n",
       "      <td>M. J. Rose</td>\n",
       "      <td>2002</td>\n",
       "      <td>Ballantine Books</td>\n",
       "    </tr>\n",
       "    <tr>\n",
       "      <td>2</td>\n",
       "      <td>6543</td>\n",
       "      <td>034545104X</td>\n",
       "      <td>0</td>\n",
       "      <td>strafford, missouri, usa</td>\n",
       "      <td>Flesh Tones: A Novel</td>\n",
       "      <td>M. J. Rose</td>\n",
       "      <td>2002</td>\n",
       "      <td>Ballantine Books</td>\n",
       "    </tr>\n",
       "    <tr>\n",
       "      <td>3</td>\n",
       "      <td>8680</td>\n",
       "      <td>034545104X</td>\n",
       "      <td>5</td>\n",
       "      <td>st. charles county, missouri, usa</td>\n",
       "      <td>Flesh Tones: A Novel</td>\n",
       "      <td>M. J. Rose</td>\n",
       "      <td>2002</td>\n",
       "      <td>Ballantine Books</td>\n",
       "    </tr>\n",
       "    <tr>\n",
       "      <td>4</td>\n",
       "      <td>10314</td>\n",
       "      <td>034545104X</td>\n",
       "      <td>9</td>\n",
       "      <td>beaverton, oregon, usa</td>\n",
       "      <td>Flesh Tones: A Novel</td>\n",
       "      <td>M. J. Rose</td>\n",
       "      <td>2002</td>\n",
       "      <td>Ballantine Books</td>\n",
       "    </tr>\n",
       "  </tbody>\n",
       "</table>\n",
       "</div>"
      ],
      "text/plain": [
       "   User-ID        ISBN  Book-Rating                           Location  \\\n",
       "0   276725  034545104X            0                  tyler, texas, usa   \n",
       "1     2313  034545104X            5              cincinnati, ohio, usa   \n",
       "2     6543  034545104X            0           strafford, missouri, usa   \n",
       "3     8680  034545104X            5  st. charles county, missouri, usa   \n",
       "4    10314  034545104X            9             beaverton, oregon, usa   \n",
       "\n",
       "             Book-Title Book-Author Year-Of-Publication         Publisher  \n",
       "0  Flesh Tones: A Novel  M. J. Rose                2002  Ballantine Books  \n",
       "1  Flesh Tones: A Novel  M. J. Rose                2002  Ballantine Books  \n",
       "2  Flesh Tones: A Novel  M. J. Rose                2002  Ballantine Books  \n",
       "3  Flesh Tones: A Novel  M. J. Rose                2002  Ballantine Books  \n",
       "4  Flesh Tones: A Novel  M. J. Rose                2002  Ballantine Books  "
      ]
     },
     "execution_count": 25,
     "metadata": {},
     "output_type": "execute_result"
    }
   ],
   "source": [
    "data.head()"
   ]
  },
  {
   "cell_type": "code",
   "execution_count": 26,
   "metadata": {},
   "outputs": [
    {
     "data": {
      "text/plain": [
       "array([2002, '2001', 1996, '1999', 1998, 2001, 1994, 1995, 2003, 1997,\n",
       "       '1995', 1999, '1998', '2024', 1992, '1983', '2002', '1996', '2000',\n",
       "       0, '1989', '2003', '1991', 1993, '1994', 1976, '1993', 1991, '0',\n",
       "       2000, 1983, 1990, 1982, 1988, 1981, '1988', 1989, 1986, '1987',\n",
       "       '1992', 1987, '1980', '1990', '1997', 2004, 1984, '1982', '1985',\n",
       "       1985, 1979, '2004', '1984', 1974, '1979', 1977, 1965, 1972, '1978',\n",
       "       '1986', '1981', 1962, '1977', 1957, 1958, 1960, 1963, 1969, '1974',\n",
       "       1978, 1970, '1972', 1980, '1975', 1959, '1960', 1968, '1976',\n",
       "       '1970', '1971', 1975, 1973, '1950', '1969', '1962', 1971, 1964,\n",
       "       1955, 1953, 1966, '1965', '1963', '1973', 1930, '1964', 1961,\n",
       "       '1952', 1940, '1968', 1954, '1967', '1911', 1952, 1946, 1941, 1920,\n",
       "       1967, 1956, 1942, 1951, 1948, '1959', 1950, 2005, 1943, 1937, 1923,\n",
       "       1945, 1947, 1936, 1925, '1966', '1958', 1927, 2030, 2011, 2020,\n",
       "       1939, 1926, 1938, '1961', 1911, 1904, 1949, 1932, 1929, '1953',\n",
       "       '1955', '1944', '1920', '1956', '1957', '1942', '1933', '1922',\n",
       "       '1897', '1954', '1941', '1949', '1939', 2050, '1947', 1902, 1924,\n",
       "       1921, 1900, '1945', '2005', 2038, 2010, 1928, '1932', '2006',\n",
       "       '1948', '1923', '1943', 1901, 2026, '1900', 2021, '1951', 1931,\n",
       "       '1940', '1378', '2030', '1946', 1908, '1938', 'DK Publishing Inc',\n",
       "       'Gallimard', '1909', '1924', '2012', '2008', '1936', 1935, '1376',\n",
       "       '1926', '2037', '1931', '1927', 1906, 1806, 1933, 1944, 1917,\n",
       "       '2020', '1930', '2011', '1919', 1914, 1934, 1910], dtype=object)"
      ]
     },
     "execution_count": 26,
     "metadata": {},
     "output_type": "execute_result"
    }
   ],
   "source": [
    "data['Year-Of-Publication'].unique()"
   ]
  },
  {
   "cell_type": "markdown",
   "metadata": {},
   "source": [
    "There are some invalid values in Year-Of-Publication, Publisher names are added in Year-of-Publication by mistake"
   ]
  },
  {
   "cell_type": "code",
   "execution_count": 27,
   "metadata": {},
   "outputs": [
    {
     "data": {
      "text/html": [
       "<div>\n",
       "<style scoped>\n",
       "    .dataframe tbody tr th:only-of-type {\n",
       "        vertical-align: middle;\n",
       "    }\n",
       "\n",
       "    .dataframe tbody tr th {\n",
       "        vertical-align: top;\n",
       "    }\n",
       "\n",
       "    .dataframe thead th {\n",
       "        text-align: right;\n",
       "    }\n",
       "</style>\n",
       "<table border=\"1\" class=\"dataframe\">\n",
       "  <thead>\n",
       "    <tr style=\"text-align: right;\">\n",
       "      <th></th>\n",
       "      <th>User-ID</th>\n",
       "      <th>ISBN</th>\n",
       "      <th>Book-Rating</th>\n",
       "      <th>Location</th>\n",
       "      <th>Book-Title</th>\n",
       "      <th>Book-Author</th>\n",
       "      <th>Year-Of-Publication</th>\n",
       "      <th>Publisher</th>\n",
       "    </tr>\n",
       "  </thead>\n",
       "  <tbody>\n",
       "    <tr>\n",
       "      <td>911154</td>\n",
       "      <td>130571</td>\n",
       "      <td>0789466953</td>\n",
       "      <td>0</td>\n",
       "      <td>summerville, south carolina, usa</td>\n",
       "      <td>DK Readers: Creating the X-Men, How Comic Book...</td>\n",
       "      <td>2000</td>\n",
       "      <td>DK Publishing Inc</td>\n",
       "      <td>http://images.amazon.com/images/P/0789466953.0...</td>\n",
       "    </tr>\n",
       "    <tr>\n",
       "      <td>949657</td>\n",
       "      <td>169663</td>\n",
       "      <td>078946697X</td>\n",
       "      <td>0</td>\n",
       "      <td>towson, maryland, usa</td>\n",
       "      <td>DK Readers: Creating the X-Men, How It All Beg...</td>\n",
       "      <td>2000</td>\n",
       "      <td>DK Publishing Inc</td>\n",
       "      <td>http://images.amazon.com/images/P/078946697X.0...</td>\n",
       "    </tr>\n",
       "    <tr>\n",
       "      <td>949658</td>\n",
       "      <td>227771</td>\n",
       "      <td>078946697X</td>\n",
       "      <td>7</td>\n",
       "      <td>savion, n/a, israel</td>\n",
       "      <td>DK Readers: Creating the X-Men, How It All Beg...</td>\n",
       "      <td>2000</td>\n",
       "      <td>DK Publishing Inc</td>\n",
       "      <td>http://images.amazon.com/images/P/078946697X.0...</td>\n",
       "    </tr>\n",
       "  </tbody>\n",
       "</table>\n",
       "</div>"
      ],
      "text/plain": [
       "        User-ID        ISBN  Book-Rating                          Location  \\\n",
       "911154   130571  0789466953            0  summerville, south carolina, usa   \n",
       "949657   169663  078946697X            0             towson, maryland, usa   \n",
       "949658   227771  078946697X            7               savion, n/a, israel   \n",
       "\n",
       "                                               Book-Title Book-Author  \\\n",
       "911154  DK Readers: Creating the X-Men, How Comic Book...        2000   \n",
       "949657  DK Readers: Creating the X-Men, How It All Beg...        2000   \n",
       "949658  DK Readers: Creating the X-Men, How It All Beg...        2000   \n",
       "\n",
       "       Year-Of-Publication                                          Publisher  \n",
       "911154   DK Publishing Inc  http://images.amazon.com/images/P/0789466953.0...  \n",
       "949657   DK Publishing Inc  http://images.amazon.com/images/P/078946697X.0...  \n",
       "949658   DK Publishing Inc  http://images.amazon.com/images/P/078946697X.0...  "
      ]
     },
     "execution_count": 27,
     "metadata": {},
     "output_type": "execute_result"
    }
   ],
   "source": [
    "data.loc[data['Year-Of-Publication'] == 'DK Publishing Inc',:]"
   ]
  },
  {
   "cell_type": "code",
   "execution_count": 28,
   "metadata": {},
   "outputs": [],
   "source": [
    "data.loc[data['ISBN'] == '0789466953','Book-Title'] = \"DK Readers: Creating the X-Men, How Comic Books Come to Life (Level 4: Proficient Readers)\"\n",
    "data.loc[data['ISBN'] == '0789466953','Book-Author'] = \"James Buckley\"\n",
    "data.loc[data['ISBN'] == '0789466953','Year-Of-Publication'] = 2000\n",
    "data.loc[data['ISBN'] == '0789466953','Publisher'] = \"DK Publishing Inc\""
   ]
  },
  {
   "cell_type": "code",
   "execution_count": 29,
   "metadata": {},
   "outputs": [],
   "source": [
    "data.loc[data['ISBN'] == '078946697X','Book-Title'] = \"DK Readers: Creating the X-Men, How It All Began (Level 4: Proficient Readers)\"\n",
    "data.loc[data['ISBN'] == '078946697X','Book-Author'] = \"Michael Teitelbaum\"\n",
    "data.loc[data['ISBN'] == '078946697X','Year-Of-Publication'] = 2000\n",
    "data.loc[data['ISBN'] == '078946697X','Publisher'] = \"DK Publishing Inc\""
   ]
  },
  {
   "cell_type": "code",
   "execution_count": 30,
   "metadata": {},
   "outputs": [
    {
     "data": {
      "text/html": [
       "<div>\n",
       "<style scoped>\n",
       "    .dataframe tbody tr th:only-of-type {\n",
       "        vertical-align: middle;\n",
       "    }\n",
       "\n",
       "    .dataframe tbody tr th {\n",
       "        vertical-align: top;\n",
       "    }\n",
       "\n",
       "    .dataframe thead th {\n",
       "        text-align: right;\n",
       "    }\n",
       "</style>\n",
       "<table border=\"1\" class=\"dataframe\">\n",
       "  <thead>\n",
       "    <tr style=\"text-align: right;\">\n",
       "      <th></th>\n",
       "      <th>User-ID</th>\n",
       "      <th>ISBN</th>\n",
       "      <th>Book-Rating</th>\n",
       "      <th>Location</th>\n",
       "      <th>Book-Title</th>\n",
       "      <th>Book-Author</th>\n",
       "      <th>Year-Of-Publication</th>\n",
       "      <th>Publisher</th>\n",
       "    </tr>\n",
       "  </thead>\n",
       "  <tbody>\n",
       "    <tr>\n",
       "      <td>911154</td>\n",
       "      <td>130571</td>\n",
       "      <td>0789466953</td>\n",
       "      <td>0</td>\n",
       "      <td>summerville, south carolina, usa</td>\n",
       "      <td>DK Readers: Creating the X-Men, How Comic Book...</td>\n",
       "      <td>James Buckley</td>\n",
       "      <td>2000</td>\n",
       "      <td>DK Publishing Inc</td>\n",
       "    </tr>\n",
       "    <tr>\n",
       "      <td>949657</td>\n",
       "      <td>169663</td>\n",
       "      <td>078946697X</td>\n",
       "      <td>0</td>\n",
       "      <td>towson, maryland, usa</td>\n",
       "      <td>DK Readers: Creating the X-Men, How It All Beg...</td>\n",
       "      <td>Michael Teitelbaum</td>\n",
       "      <td>2000</td>\n",
       "      <td>DK Publishing Inc</td>\n",
       "    </tr>\n",
       "    <tr>\n",
       "      <td>949658</td>\n",
       "      <td>227771</td>\n",
       "      <td>078946697X</td>\n",
       "      <td>7</td>\n",
       "      <td>savion, n/a, israel</td>\n",
       "      <td>DK Readers: Creating the X-Men, How It All Beg...</td>\n",
       "      <td>Michael Teitelbaum</td>\n",
       "      <td>2000</td>\n",
       "      <td>DK Publishing Inc</td>\n",
       "    </tr>\n",
       "  </tbody>\n",
       "</table>\n",
       "</div>"
      ],
      "text/plain": [
       "        User-ID        ISBN  Book-Rating                          Location  \\\n",
       "911154   130571  0789466953            0  summerville, south carolina, usa   \n",
       "949657   169663  078946697X            0             towson, maryland, usa   \n",
       "949658   227771  078946697X            7               savion, n/a, israel   \n",
       "\n",
       "                                               Book-Title         Book-Author  \\\n",
       "911154  DK Readers: Creating the X-Men, How Comic Book...       James Buckley   \n",
       "949657  DK Readers: Creating the X-Men, How It All Beg...  Michael Teitelbaum   \n",
       "949658  DK Readers: Creating the X-Men, How It All Beg...  Michael Teitelbaum   \n",
       "\n",
       "       Year-Of-Publication          Publisher  \n",
       "911154                2000  DK Publishing Inc  \n",
       "949657                2000  DK Publishing Inc  \n",
       "949658                2000  DK Publishing Inc  "
      ]
     },
     "execution_count": 30,
     "metadata": {},
     "output_type": "execute_result"
    }
   ],
   "source": [
    "data.loc[(data['ISBN'] == '0789466953') | (data['ISBN'] == '078946697X'),:]"
   ]
  },
  {
   "cell_type": "code",
   "execution_count": 31,
   "metadata": {},
   "outputs": [
    {
     "data": {
      "text/html": [
       "<div>\n",
       "<style scoped>\n",
       "    .dataframe tbody tr th:only-of-type {\n",
       "        vertical-align: middle;\n",
       "    }\n",
       "\n",
       "    .dataframe tbody tr th {\n",
       "        vertical-align: top;\n",
       "    }\n",
       "\n",
       "    .dataframe thead th {\n",
       "        text-align: right;\n",
       "    }\n",
       "</style>\n",
       "<table border=\"1\" class=\"dataframe\">\n",
       "  <thead>\n",
       "    <tr style=\"text-align: right;\">\n",
       "      <th></th>\n",
       "      <th>User-ID</th>\n",
       "      <th>ISBN</th>\n",
       "      <th>Book-Rating</th>\n",
       "      <th>Location</th>\n",
       "      <th>Book-Title</th>\n",
       "      <th>Book-Author</th>\n",
       "      <th>Year-Of-Publication</th>\n",
       "      <th>Publisher</th>\n",
       "    </tr>\n",
       "  </thead>\n",
       "  <tbody>\n",
       "    <tr>\n",
       "      <td>918145</td>\n",
       "      <td>137190</td>\n",
       "      <td>2070426769</td>\n",
       "      <td>0</td>\n",
       "      <td>rennes, bretagne, france</td>\n",
       "      <td>Peuple du ciel, suivi de 'Les Bergers\\\";Jean-M...</td>\n",
       "      <td>2003</td>\n",
       "      <td>Gallimard</td>\n",
       "      <td>http://images.amazon.com/images/P/2070426769.0...</td>\n",
       "    </tr>\n",
       "  </tbody>\n",
       "</table>\n",
       "</div>"
      ],
      "text/plain": [
       "        User-ID        ISBN  Book-Rating                  Location  \\\n",
       "918145   137190  2070426769            0  rennes, bretagne, france   \n",
       "\n",
       "                                               Book-Title Book-Author  \\\n",
       "918145  Peuple du ciel, suivi de 'Les Bergers\\\";Jean-M...        2003   \n",
       "\n",
       "       Year-Of-Publication                                          Publisher  \n",
       "918145           Gallimard  http://images.amazon.com/images/P/2070426769.0...  "
      ]
     },
     "execution_count": 31,
     "metadata": {},
     "output_type": "execute_result"
    }
   ],
   "source": [
    "data.loc[data['Year-Of-Publication'] == 'Gallimard',:]"
   ]
  },
  {
   "cell_type": "code",
   "execution_count": 32,
   "metadata": {},
   "outputs": [],
   "source": [
    "data.loc[data['ISBN'] == '2070426769','Book-Title'] = \"Peuple du ciel, suivi de 'Les Bergers\"\n",
    "data.loc[data['ISBN'] == '2070426769','Book-Author'] = \"Jean-Marie Gustave Le ClÃ?Â©zio\"\n",
    "data.loc[data['ISBN'] == '2070426769','Year-Of-Publication'] = 2003\n",
    "data.loc[data['ISBN'] == '2070426769','Publisher'] = \"Gallimard\""
   ]
  },
  {
   "cell_type": "code",
   "execution_count": 33,
   "metadata": {},
   "outputs": [
    {
     "data": {
      "text/html": [
       "<div>\n",
       "<style scoped>\n",
       "    .dataframe tbody tr th:only-of-type {\n",
       "        vertical-align: middle;\n",
       "    }\n",
       "\n",
       "    .dataframe tbody tr th {\n",
       "        vertical-align: top;\n",
       "    }\n",
       "\n",
       "    .dataframe thead th {\n",
       "        text-align: right;\n",
       "    }\n",
       "</style>\n",
       "<table border=\"1\" class=\"dataframe\">\n",
       "  <thead>\n",
       "    <tr style=\"text-align: right;\">\n",
       "      <th></th>\n",
       "      <th>User-ID</th>\n",
       "      <th>ISBN</th>\n",
       "      <th>Book-Rating</th>\n",
       "      <th>Location</th>\n",
       "      <th>Book-Title</th>\n",
       "      <th>Book-Author</th>\n",
       "      <th>Year-Of-Publication</th>\n",
       "      <th>Publisher</th>\n",
       "    </tr>\n",
       "  </thead>\n",
       "  <tbody>\n",
       "    <tr>\n",
       "      <td>918145</td>\n",
       "      <td>137190</td>\n",
       "      <td>2070426769</td>\n",
       "      <td>0</td>\n",
       "      <td>rennes, bretagne, france</td>\n",
       "      <td>Peuple du ciel, suivi de 'Les Bergers</td>\n",
       "      <td>Jean-Marie Gustave Le ClÃ?Â©zio</td>\n",
       "      <td>2003</td>\n",
       "      <td>Gallimard</td>\n",
       "    </tr>\n",
       "  </tbody>\n",
       "</table>\n",
       "</div>"
      ],
      "text/plain": [
       "        User-ID        ISBN  Book-Rating                  Location  \\\n",
       "918145   137190  2070426769            0  rennes, bretagne, france   \n",
       "\n",
       "                                   Book-Title  \\\n",
       "918145  Peuple du ciel, suivi de 'Les Bergers   \n",
       "\n",
       "                            Book-Author Year-Of-Publication  Publisher  \n",
       "918145  Jean-Marie Gustave Le ClÃ?Â©zio                2003  Gallimard  "
      ]
     },
     "execution_count": 33,
     "metadata": {},
     "output_type": "execute_result"
    }
   ],
   "source": [
    "data.loc[data['ISBN'] == '2070426769',:]"
   ]
  },
  {
   "cell_type": "code",
   "execution_count": 34,
   "metadata": {},
   "outputs": [
    {
     "data": {
      "text/plain": [
       "User-ID                 int64\n",
       "ISBN                   object\n",
       "Book-Rating             int64\n",
       "Location               object\n",
       "Book-Title             object\n",
       "Book-Author            object\n",
       "Year-Of-Publication    object\n",
       "Publisher              object\n",
       "dtype: object"
      ]
     },
     "execution_count": 34,
     "metadata": {},
     "output_type": "execute_result"
    }
   ],
   "source": [
    "data.dtypes"
   ]
  },
  {
   "cell_type": "code",
   "execution_count": 35,
   "metadata": {},
   "outputs": [],
   "source": [
    "data['Year-Of-Publication']=pd.to_numeric(data['Year-Of-Publication'], errors='coerce')"
   ]
  },
  {
   "cell_type": "code",
   "execution_count": 36,
   "metadata": {},
   "outputs": [
    {
     "data": {
      "text/plain": [
       "array([2002, 2001, 1996, 1999, 1998, 1994, 1995, 2003, 1997, 2024, 1992,\n",
       "       1983, 2000,    0, 1989, 1991, 1993, 1976, 1990, 1982, 1988, 1981,\n",
       "       1986, 1987, 1980, 2004, 1984, 1985, 1979, 1974, 1977, 1965, 1972,\n",
       "       1978, 1962, 1957, 1958, 1960, 1963, 1969, 1970, 1975, 1959, 1968,\n",
       "       1971, 1973, 1950, 1964, 1955, 1953, 1966, 1930, 1961, 1952, 1940,\n",
       "       1954, 1967, 1911, 1946, 1941, 1920, 1956, 1942, 1951, 1948, 2005,\n",
       "       1943, 1937, 1923, 1945, 1947, 1936, 1925, 1927, 2030, 2011, 2020,\n",
       "       1939, 1926, 1938, 1904, 1949, 1932, 1929, 1944, 1933, 1922, 1897,\n",
       "       2050, 1902, 1924, 1921, 1900, 2038, 2010, 1928, 2006, 1901, 2026,\n",
       "       2021, 1931, 1378, 1908, 1909, 2012, 2008, 1935, 1376, 2037, 1906,\n",
       "       1806, 1917, 1919, 1914, 1934, 1910])"
      ]
     },
     "execution_count": 36,
     "metadata": {},
     "output_type": "execute_result"
    }
   ],
   "source": [
    "data['Year-Of-Publication'].unique()"
   ]
  },
  {
   "cell_type": "code",
   "execution_count": 37,
   "metadata": {},
   "outputs": [
    {
     "data": {
      "image/png": "[encoded data removed]",
      "text/plain": [
       "<Figure size 432x288 with 1 Axes>"
      ]
     },
     "metadata": {
      "needs_background": "light"
     },
     "output_type": "display_data"
    }
   ],
   "source": [
    "data[\"Book-Rating\"].value_counts()\n",
    "plt.hist(data['Book-Rating'], bins=10)\n",
    "plt.show()"
   ]
  },
  {
   "cell_type": "code",
   "execution_count": 38,
   "metadata": {},
   "outputs": [
    {
     "name": "stdout",
     "output_type": "stream",
     "text": [
      "3\n"
     ]
    }
   ],
   "source": [
    "# average book rating \n",
    "C = data['Book-Rating'].mean()\n",
    "print(math.ceil(C))"
   ]
  },
  {
   "cell_type": "code",
   "execution_count": 39,
   "metadata": {},
   "outputs": [
    {
     "data": {
      "text/html": [
       "<div>\n",
       "<style scoped>\n",
       "    .dataframe tbody tr th:only-of-type {\n",
       "        vertical-align: middle;\n",
       "    }\n",
       "\n",
       "    .dataframe tbody tr th {\n",
       "        vertical-align: top;\n",
       "    }\n",
       "\n",
       "    .dataframe thead th {\n",
       "        text-align: right;\n",
       "    }\n",
       "</style>\n",
       "<table border=\"1\" class=\"dataframe\">\n",
       "  <thead>\n",
       "    <tr style=\"text-align: right;\">\n",
       "      <th></th>\n",
       "      <th>User-ID</th>\n",
       "      <th>ISBN</th>\n",
       "      <th>Book-Rating</th>\n",
       "      <th>Location</th>\n",
       "      <th>Book-Title</th>\n",
       "      <th>Book-Author</th>\n",
       "      <th>Year-Of-Publication</th>\n",
       "      <th>Publisher</th>\n",
       "    </tr>\n",
       "  </thead>\n",
       "  <tbody>\n",
       "    <tr>\n",
       "      <td>0</td>\n",
       "      <td>276725</td>\n",
       "      <td>034545104X</td>\n",
       "      <td>0</td>\n",
       "      <td>tyler, texas, usa</td>\n",
       "      <td>Flesh Tones: A Novel</td>\n",
       "      <td>M. J. Rose</td>\n",
       "      <td>2002</td>\n",
       "      <td>Ballantine Books</td>\n",
       "    </tr>\n",
       "  </tbody>\n",
       "</table>\n",
       "</div>"
      ],
      "text/plain": [
       "   User-ID        ISBN  Book-Rating           Location            Book-Title  \\\n",
       "0   276725  034545104X            0  tyler, texas, usa  Flesh Tones: A Novel   \n",
       "\n",
       "  Book-Author  Year-Of-Publication         Publisher  \n",
       "0  M. J. Rose                 2002  Ballantine Books  "
      ]
     },
     "execution_count": 39,
     "metadata": {},
     "output_type": "execute_result"
    }
   ],
   "source": [
    "data[\"Book-Rating\"].replace(0.0,None,inplace=True)\n",
    "data[data[\"Book-Rating\"]==0]"
   ]
  },
  {
   "cell_type": "code",
   "execution_count": 40,
   "metadata": {},
   "outputs": [
    {
     "name": "stderr",
     "output_type": "stream",
     "text": [
      "/Users/akshayadlakha/opt/anaconda3/lib/python3.7/site-packages/pandas/core/indexing.py:205: SettingWithCopyWarning: \n",
      "A value is trying to be set on a copy of a slice from a DataFrame\n",
      "\n",
      "See the caveats in the documentation: http://pandas.pydata.org/pandas-docs/stable/user_guide/indexing.html#returning-a-view-versus-a-copy\n",
      "  self._setitem_with_indexer(indexer, value)\n"
     ]
    }
   ],
   "source": [
    "data[\"Book-Rating\"].iloc[0]=math.ceil(C)"
   ]
  },
  {
   "cell_type": "code",
   "execution_count": 41,
   "metadata": {},
   "outputs": [
    {
     "data": {
      "image/png": "[encoded data removed]",
      "text/plain": [
       "<Figure size 432x288 with 1 Axes>"
      ]
     },
     "metadata": {
      "needs_background": "light"
     },
     "output_type": "display_data"
    }
   ],
   "source": [
    "plt.hist(data['Book-Rating'], bins=10)\n",
    "plt.xlabel('Rating')\n",
    "plt.ylabel('Count')\n",
    "plt.title('Rating frequency plot')\n",
    "plt.show()"
   ]
  },
  {
   "cell_type": "code",
   "execution_count": 42,
   "metadata": {},
   "outputs": [
    {
     "data": {
      "text/plain": [
       "8     245973\n",
       "7     182413\n",
       "10    179914\n",
       "9     157200\n",
       "5     130125\n",
       "6      88262\n",
       "4      21760\n",
       "3      14367\n",
       "2       6828\n",
       "1       4291\n",
       "Name: Book-Rating, dtype: int64"
      ]
     },
     "execution_count": 42,
     "metadata": {},
     "output_type": "execute_result"
    }
   ],
   "source": [
    "data[\"Book-Rating\"].value_counts()"
   ]
  },
  {
   "cell_type": "markdown",
   "metadata": {},
   "source": [
    "### Data Preparation"
   ]
  },
  {
   "cell_type": "code",
   "execution_count": 43,
   "metadata": {},
   "outputs": [
    {
     "data": {
      "text/plain": [
       "ISBN        Book-Title                                                      Book-Author                  \n",
       "0000913154  The Way Things Work: An Illustrated Encyclopedia of Technology  C. van Amerongen (translator)     8.0\n",
       "0001010565  Mog's Christmas                                                 Judith Kerr                      10.0\n",
       "0001046438  Liar                                                            Stephen Fry                       9.0\n",
       "0001046713  Twopence to Cross the Mersey                                    Helen Forrester                   7.0\n",
       "000104687X  T.S. Eliot Reading \\The Wasteland\\\" and Other Poems\"            T.S. Eliot                        6.0\n",
       "Name: Book-Rating, dtype: float64"
      ]
     },
     "execution_count": 43,
     "metadata": {},
     "output_type": "execute_result"
    }
   ],
   "source": [
    "data.groupby([\"ISBN\",\"Book-Title\",\"Book-Author\"])[\"Book-Rating\"].mean().head()"
   ]
  },
  {
   "cell_type": "code",
   "execution_count": 44,
   "metadata": {},
   "outputs": [
    {
     "data": {
      "text/plain": [
       "ISBN        Book-Title                                                                  Book-Author          \n",
       "0717264718  102 Dalmatians                                                              Disney                   10.0\n",
       "1895421004  Keepers of the Secret (Salamanca No. 1)                                     Michele Lynn Boudreau    10.0\n",
       "0425186237  From the Soul: Stories of Great Black Parents &amp; the Lives They Gave Us  Phyllis Y. Harris        10.0\n",
       "0912677139  Soft words, hard words: A common-sense guide to creative documentation      Lucia McKay              10.0\n",
       "0312959796  Dreams of You (Dreams of You)                                               Tina Wainscott           10.0\n",
       "Name: Book-Rating, dtype: float64"
      ]
     },
     "execution_count": 44,
     "metadata": {},
     "output_type": "execute_result"
    }
   ],
   "source": [
    "data.groupby([\"ISBN\",\"Book-Title\",\"Book-Author\"])[\"Book-Rating\"].mean().sort_values(ascending=False).head()"
   ]
  },
  {
   "cell_type": "code",
   "execution_count": 45,
   "metadata": {
    "scrolled": true
   },
   "outputs": [
    {
     "data": {
      "text/plain": [
       "ISBN        Book-Title                                       Book-Author  \n",
       "0971880107  Wild Animus                                      Rich Shapero     2502\n",
       "0316666343  The Lovely Bones: A Novel                        Alice Sebold     1295\n",
       "0385504209  The Da Vinci Code                                Dan Brown         883\n",
       "0060928336  Divine Secrets of the Ya-Ya Sisterhood: A Novel  Rebecca Wells     732\n",
       "0312195516  The Red Tent (Bestselling Backlist)              Anita Diamant     723\n",
       "Name: Book-Rating, dtype: int64"
      ]
     },
     "execution_count": 45,
     "metadata": {},
     "output_type": "execute_result"
    }
   ],
   "source": [
    "data.groupby([\"ISBN\",\"Book-Title\",\"Book-Author\"])[\"Book-Rating\"].count().sort_values(ascending=False).head()"
   ]
  },
  {
   "cell_type": "code",
   "execution_count": 46,
   "metadata": {},
   "outputs": [],
   "source": [
    "ratingsmeancount = pd.DataFrame(data.groupby([\"ISBN\",\"Book-Title\",\"Book-Author\"])[\"Book-Rating\"].mean())"
   ]
  },
  {
   "cell_type": "code",
   "execution_count": 47,
   "metadata": {},
   "outputs": [],
   "source": [
    "ratingsmeancount['rating_counts'] = pd.DataFrame(data.groupby([\"ISBN\",\"Book-Title\",\"Book-Author\"])[\"Book-Rating\"].count())"
   ]
  },
  {
   "cell_type": "code",
   "execution_count": 48,
   "metadata": {},
   "outputs": [
    {
     "data": {
      "text/html": [
       "<div>\n",
       "<style scoped>\n",
       "    .dataframe tbody tr th:only-of-type {\n",
       "        vertical-align: middle;\n",
       "    }\n",
       "\n",
       "    .dataframe tbody tr th {\n",
       "        vertical-align: top;\n",
       "    }\n",
       "\n",
       "    .dataframe thead th {\n",
       "        text-align: right;\n",
       "    }\n",
       "</style>\n",
       "<table border=\"1\" class=\"dataframe\">\n",
       "  <thead>\n",
       "    <tr style=\"text-align: right;\">\n",
       "      <th></th>\n",
       "      <th></th>\n",
       "      <th></th>\n",
       "      <th>Book-Rating</th>\n",
       "      <th>rating_counts</th>\n",
       "    </tr>\n",
       "    <tr>\n",
       "      <th>ISBN</th>\n",
       "      <th>Book-Title</th>\n",
       "      <th>Book-Author</th>\n",
       "      <th></th>\n",
       "      <th></th>\n",
       "    </tr>\n",
       "  </thead>\n",
       "  <tbody>\n",
       "    <tr>\n",
       "      <td>0000913154</td>\n",
       "      <td>The Way Things Work: An Illustrated Encyclopedia of Technology</td>\n",
       "      <td>C. van Amerongen (translator)</td>\n",
       "      <td>8.0</td>\n",
       "      <td>1</td>\n",
       "    </tr>\n",
       "    <tr>\n",
       "      <td>0001010565</td>\n",
       "      <td>Mog's Christmas</td>\n",
       "      <td>Judith Kerr</td>\n",
       "      <td>10.0</td>\n",
       "      <td>2</td>\n",
       "    </tr>\n",
       "    <tr>\n",
       "      <td>0001046438</td>\n",
       "      <td>Liar</td>\n",
       "      <td>Stephen Fry</td>\n",
       "      <td>9.0</td>\n",
       "      <td>1</td>\n",
       "    </tr>\n",
       "    <tr>\n",
       "      <td>0001046713</td>\n",
       "      <td>Twopence to Cross the Mersey</td>\n",
       "      <td>Helen Forrester</td>\n",
       "      <td>7.0</td>\n",
       "      <td>1</td>\n",
       "    </tr>\n",
       "    <tr>\n",
       "      <td>000104687X</td>\n",
       "      <td>T.S. Eliot Reading \\The Wasteland\\\" and Other Poems\"</td>\n",
       "      <td>T.S. Eliot</td>\n",
       "      <td>6.0</td>\n",
       "      <td>1</td>\n",
       "    </tr>\n",
       "  </tbody>\n",
       "</table>\n",
       "</div>"
      ],
      "text/plain": [
       "                                                                                             Book-Rating  \\\n",
       "ISBN       Book-Title                                         Book-Author                                  \n",
       "0000913154 The Way Things Work: An Illustrated Encyclopedi... C. van Amerongen (translator)          8.0   \n",
       "0001010565 Mog's Christmas                                    Judith Kerr                           10.0   \n",
       "0001046438 Liar                                               Stephen Fry                            9.0   \n",
       "0001046713 Twopence to Cross the Mersey                       Helen Forrester                        7.0   \n",
       "000104687X T.S. Eliot Reading \\The Wasteland\\\" and Other P... T.S. Eliot                             6.0   \n",
       "\n",
       "                                                                                             rating_counts  \n",
       "ISBN       Book-Title                                         Book-Author                                   \n",
       "0000913154 The Way Things Work: An Illustrated Encyclopedi... C. van Amerongen (translator)              1  \n",
       "0001010565 Mog's Christmas                                    Judith Kerr                                2  \n",
       "0001046438 Liar                                               Stephen Fry                                1  \n",
       "0001046713 Twopence to Cross the Mersey                       Helen Forrester                            1  \n",
       "000104687X T.S. Eliot Reading \\The Wasteland\\\" and Other P... T.S. Eliot                                 1  "
      ]
     },
     "execution_count": 48,
     "metadata": {},
     "output_type": "execute_result"
    }
   ],
   "source": [
    "ratingsmeancount.head()"
   ]
  },
  {
   "cell_type": "code",
   "execution_count": 49,
   "metadata": {},
   "outputs": [
    {
     "data": {
      "text/plain": [
       "<matplotlib.axes._subplots.AxesSubplot at 0x1a260c7050>"
      ]
     },
     "execution_count": 49,
     "metadata": {},
     "output_type": "execute_result"
    },
    {
     "data": {
      "image/png": "[encoded data removed]",
      "text/plain": [
       "<Figure size 576x432 with 1 Axes>"
      ]
     },
     "metadata": {
      "needs_background": "light"
     },
     "output_type": "display_data"
    }
   ],
   "source": [
    "plt.figure(figsize=(8,6))\n",
    "plt.rcParams['patch.force_edgecolor'] = True\n",
    "ratingsmeancount['Book-Rating'].hist(bins=50)"
   ]
  },
  {
   "cell_type": "code",
   "execution_count": 50,
   "metadata": {},
   "outputs": [
    {
     "data": {
      "text/plain": [
       "<seaborn.axisgrid.JointGrid at 0x1a28f51fd0>"
      ]
     },
     "execution_count": 50,
     "metadata": {},
     "output_type": "execute_result"
    },
    {
     "data": {
      "text/plain": [
       "<Figure size 576x432 with 0 Axes>"
      ]
     },
     "metadata": {},
     "output_type": "display_data"
    },
    {
     "data": {
      "image/png": "[encoded data removed]",
      "text/plain": [
       "<Figure size 432x432 with 3 Axes>"
      ]
     },
     "metadata": {
      "needs_background": "light"
     },
     "output_type": "display_data"
    }
   ],
   "source": [
    "plt.figure(figsize=(8,6))\n",
    "plt.rcParams['patch.force_edgecolor'] = True\n",
    "sns.jointplot(x='Book-Rating', y='rating_counts', data=ratingsmeancount, alpha=0.4)"
   ]
  },
  {
   "cell_type": "code",
   "execution_count": 51,
   "metadata": {},
   "outputs": [],
   "source": [
    "ratingSum=pd.DataFrame(data.groupby([\"ISBN\",\"Book-Title\"])[\"Book-Rating\"].sum().sort_values(ascending=False).head(10))"
   ]
  },
  {
   "cell_type": "code",
   "execution_count": 52,
   "metadata": {},
   "outputs": [
    {
     "data": {
      "text/html": [
       "<div>\n",
       "<style scoped>\n",
       "    .dataframe tbody tr th:only-of-type {\n",
       "        vertical-align: middle;\n",
       "    }\n",
       "\n",
       "    .dataframe tbody tr th {\n",
       "        vertical-align: top;\n",
       "    }\n",
       "\n",
       "    .dataframe thead th {\n",
       "        text-align: right;\n",
       "    }\n",
       "</style>\n",
       "<table border=\"1\" class=\"dataframe\">\n",
       "  <thead>\n",
       "    <tr style=\"text-align: right;\">\n",
       "      <th></th>\n",
       "      <th></th>\n",
       "      <th>Book-Rating</th>\n",
       "    </tr>\n",
       "    <tr>\n",
       "      <th>ISBN</th>\n",
       "      <th>Book-Title</th>\n",
       "      <th></th>\n",
       "    </tr>\n",
       "  </thead>\n",
       "  <tbody>\n",
       "    <tr>\n",
       "      <td>0971880107</td>\n",
       "      <td>Wild Animus</td>\n",
       "      <td>11244</td>\n",
       "    </tr>\n",
       "    <tr>\n",
       "      <td>0316666343</td>\n",
       "      <td>The Lovely Bones: A Novel</td>\n",
       "      <td>10539</td>\n",
       "    </tr>\n",
       "    <tr>\n",
       "      <td>0385504209</td>\n",
       "      <td>The Da Vinci Code</td>\n",
       "      <td>7489</td>\n",
       "    </tr>\n",
       "    <tr>\n",
       "      <td>0312195516</td>\n",
       "      <td>The Red Tent (Bestselling Backlist)</td>\n",
       "      <td>5920</td>\n",
       "    </tr>\n",
       "    <tr>\n",
       "      <td>0060928336</td>\n",
       "      <td>Divine Secrets of the Ya-Ya Sisterhood: A Novel</td>\n",
       "      <td>5769</td>\n",
       "    </tr>\n",
       "    <tr>\n",
       "      <td>0142001740</td>\n",
       "      <td>The Secret Life of Bees</td>\n",
       "      <td>5187</td>\n",
       "    </tr>\n",
       "    <tr>\n",
       "      <td>059035342X</td>\n",
       "      <td>Harry Potter and the Sorcerer's Stone (Harry Potter (Paperback))</td>\n",
       "      <td>5073</td>\n",
       "    </tr>\n",
       "    <tr>\n",
       "      <td>067976402X</td>\n",
       "      <td>Snow Falling on Cedars</td>\n",
       "      <td>4802</td>\n",
       "    </tr>\n",
       "    <tr>\n",
       "      <td>0446672211</td>\n",
       "      <td>Where the Heart Is (Oprah's Book Club (Paperback))</td>\n",
       "      <td>4771</td>\n",
       "    </tr>\n",
       "    <tr>\n",
       "      <td>0671027360</td>\n",
       "      <td>Angels &amp;amp; Demons</td>\n",
       "      <td>4720</td>\n",
       "    </tr>\n",
       "  </tbody>\n",
       "</table>\n",
       "</div>"
      ],
      "text/plain": [
       "                                                               Book-Rating\n",
       "ISBN       Book-Title                                                     \n",
       "0971880107 Wild Animus                                               11244\n",
       "0316666343 The Lovely Bones: A Novel                                 10539\n",
       "0385504209 The Da Vinci Code                                          7489\n",
       "0312195516 The Red Tent (Bestselling Backlist)                        5920\n",
       "0060928336 Divine Secrets of the Ya-Ya Sisterhood: A Novel            5769\n",
       "0142001740 The Secret Life of Bees                                    5187\n",
       "059035342X Harry Potter and the Sorcerer's Stone (Harry Po...         5073\n",
       "067976402X Snow Falling on Cedars                                     4802\n",
       "0446672211 Where the Heart Is (Oprah's Book Club (Paperback))         4771\n",
       "0671027360 Angels &amp; Demons                                        4720"
      ]
     },
     "execution_count": 52,
     "metadata": {},
     "output_type": "execute_result"
    }
   ],
   "source": [
    "# popular books\n",
    "ratingSum"
   ]
  },
  {
   "cell_type": "code",
   "execution_count": 53,
   "metadata": {},
   "outputs": [
    {
     "data": {
      "text/plain": [
       "Int64Index([ 11676, 198711, 153662,  98391,  35859, 212898, 278418,  76352,\n",
       "            110973, 235105,\n",
       "            ...\n",
       "             91931,  12982,  10819,  96448, 164465, 191187, 131837, 135458,\n",
       "               254,  85701],\n",
       "           dtype='int64', length=500)"
      ]
     },
     "execution_count": 53,
     "metadata": {},
     "output_type": "execute_result"
    }
   ],
   "source": [
    "topUser=data[\"User-ID\"].value_counts().sort_values(ascending=False).head(500).index\n",
    "topUser"
   ]
  },
  {
   "cell_type": "code",
   "execution_count": 54,
   "metadata": {},
   "outputs": [
    {
     "data": {
      "text/html": [
       "<div>\n",
       "<style scoped>\n",
       "    .dataframe tbody tr th:only-of-type {\n",
       "        vertical-align: middle;\n",
       "    }\n",
       "\n",
       "    .dataframe tbody tr th {\n",
       "        vertical-align: top;\n",
       "    }\n",
       "\n",
       "    .dataframe thead th {\n",
       "        text-align: right;\n",
       "    }\n",
       "</style>\n",
       "<table border=\"1\" class=\"dataframe\">\n",
       "  <thead>\n",
       "    <tr style=\"text-align: right;\">\n",
       "      <th></th>\n",
       "      <th>User-ID</th>\n",
       "      <th>ISBN</th>\n",
       "      <th>Book-Rating</th>\n",
       "      <th>Location</th>\n",
       "      <th>Book-Title</th>\n",
       "      <th>Book-Author</th>\n",
       "      <th>Year-Of-Publication</th>\n",
       "      <th>Publisher</th>\n",
       "    </tr>\n",
       "  </thead>\n",
       "  <tbody>\n",
       "    <tr>\n",
       "      <td>2</td>\n",
       "      <td>6543</td>\n",
       "      <td>034545104X</td>\n",
       "      <td>5</td>\n",
       "      <td>strafford, missouri, usa</td>\n",
       "      <td>Flesh Tones: A Novel</td>\n",
       "      <td>M. J. Rose</td>\n",
       "      <td>2002</td>\n",
       "      <td>Ballantine Books</td>\n",
       "    </tr>\n",
       "    <tr>\n",
       "      <td>5</td>\n",
       "      <td>23768</td>\n",
       "      <td>034545104X</td>\n",
       "      <td>9</td>\n",
       "      <td>st. louis, missouri, usa</td>\n",
       "      <td>Flesh Tones: A Novel</td>\n",
       "      <td>M. J. Rose</td>\n",
       "      <td>2002</td>\n",
       "      <td>Ballantine Books</td>\n",
       "    </tr>\n",
       "    <tr>\n",
       "      <td>7</td>\n",
       "      <td>28523</td>\n",
       "      <td>034545104X</td>\n",
       "      <td>9</td>\n",
       "      <td>springfield, missouri, usa</td>\n",
       "      <td>Flesh Tones: A Novel</td>\n",
       "      <td>M. J. Rose</td>\n",
       "      <td>2002</td>\n",
       "      <td>Ballantine Books</td>\n",
       "    </tr>\n",
       "    <tr>\n",
       "      <td>15</td>\n",
       "      <td>77940</td>\n",
       "      <td>034545104X</td>\n",
       "      <td>8</td>\n",
       "      <td>melaka, melaka, malaysia</td>\n",
       "      <td>Flesh Tones: A Novel</td>\n",
       "      <td>M. J. Rose</td>\n",
       "      <td>2002</td>\n",
       "      <td>Ballantine Books</td>\n",
       "    </tr>\n",
       "    <tr>\n",
       "      <td>16</td>\n",
       "      <td>81977</td>\n",
       "      <td>034545104X</td>\n",
       "      <td>8</td>\n",
       "      <td>minneapolis, minnesota, usa</td>\n",
       "      <td>Flesh Tones: A Novel</td>\n",
       "      <td>M. J. Rose</td>\n",
       "      <td>2002</td>\n",
       "      <td>Ballantine Books</td>\n",
       "    </tr>\n",
       "  </tbody>\n",
       "</table>\n",
       "</div>"
      ],
      "text/plain": [
       "    User-ID        ISBN  Book-Rating                     Location  \\\n",
       "2      6543  034545104X            5     strafford, missouri, usa   \n",
       "5     23768  034545104X            9     st. louis, missouri, usa   \n",
       "7     28523  034545104X            9   springfield, missouri, usa   \n",
       "15    77940  034545104X            8     melaka, melaka, malaysia   \n",
       "16    81977  034545104X            8  minneapolis, minnesota, usa   \n",
       "\n",
       "              Book-Title Book-Author  Year-Of-Publication         Publisher  \n",
       "2   Flesh Tones: A Novel  M. J. Rose                 2002  Ballantine Books  \n",
       "5   Flesh Tones: A Novel  M. J. Rose                 2002  Ballantine Books  \n",
       "7   Flesh Tones: A Novel  M. J. Rose                 2002  Ballantine Books  \n",
       "15  Flesh Tones: A Novel  M. J. Rose                 2002  Ballantine Books  \n",
       "16  Flesh Tones: A Novel  M. J. Rose                 2002  Ballantine Books  "
      ]
     },
     "execution_count": 54,
     "metadata": {},
     "output_type": "execute_result"
    }
   ],
   "source": [
    "userData=data[data[\"User-ID\"].isin(topUser)]\n",
    "userData.head()"
   ]
  },
  {
   "cell_type": "code",
   "execution_count": 55,
   "metadata": {},
   "outputs": [],
   "source": [
    "userCount=userData[\"User-ID\"].value_counts()"
   ]
  },
  {
   "cell_type": "code",
   "execution_count": 56,
   "metadata": {},
   "outputs": [
    {
     "data": {
      "text/plain": [
       "11676     11144\n",
       "198711     6456\n",
       "153662     5814\n",
       "98391      5777\n",
       "35859      5646\n",
       "          ...  \n",
       "191187      302\n",
       "135458      301\n",
       "131837      301\n",
       "85701       300\n",
       "254         300\n",
       "Name: User-ID, Length: 500, dtype: int64"
      ]
     },
     "execution_count": 56,
     "metadata": {},
     "output_type": "execute_result"
    }
   ],
   "source": [
    "userCount"
   ]
  },
  {
   "cell_type": "code",
   "execution_count": 57,
   "metadata": {},
   "outputs": [
    {
     "data": {
      "text/html": [
       "<div>\n",
       "<style scoped>\n",
       "    .dataframe tbody tr th:only-of-type {\n",
       "        vertical-align: middle;\n",
       "    }\n",
       "\n",
       "    .dataframe tbody tr th {\n",
       "        vertical-align: top;\n",
       "    }\n",
       "\n",
       "    .dataframe thead th {\n",
       "        text-align: right;\n",
       "    }\n",
       "</style>\n",
       "<table border=\"1\" class=\"dataframe\">\n",
       "  <thead>\n",
       "    <tr style=\"text-align: right;\">\n",
       "      <th></th>\n",
       "      <th>Book-Title</th>\n",
       "      <th>Book-Rating</th>\n",
       "    </tr>\n",
       "  </thead>\n",
       "  <tbody>\n",
       "    <tr>\n",
       "      <td>0</td>\n",
       "      <td>A Light in the Storm: The Civil War Diary of ...</td>\n",
       "      <td>7</td>\n",
       "    </tr>\n",
       "    <tr>\n",
       "      <td>1</td>\n",
       "      <td>Always Have Popsicles</td>\n",
       "      <td>9</td>\n",
       "    </tr>\n",
       "    <tr>\n",
       "      <td>2</td>\n",
       "      <td>Apple Magic (The Collector's series)</td>\n",
       "      <td>10</td>\n",
       "    </tr>\n",
       "    <tr>\n",
       "      <td>3</td>\n",
       "      <td>Beyond IBM: Leadership Marketing and Finance ...</td>\n",
       "      <td>10</td>\n",
       "    </tr>\n",
       "    <tr>\n",
       "      <td>4</td>\n",
       "      <td>Dark Justice</td>\n",
       "      <td>10</td>\n",
       "    </tr>\n",
       "    <tr>\n",
       "      <td>...</td>\n",
       "      <td>...</td>\n",
       "      <td>...</td>\n",
       "    </tr>\n",
       "    <tr>\n",
       "      <td>95535</td>\n",
       "      <td>Â¿Eres tu mi mamÃ¡?/Are You My Mother?</td>\n",
       "      <td>9</td>\n",
       "    </tr>\n",
       "    <tr>\n",
       "      <td>95536</td>\n",
       "      <td>Â¿QuÃ© me quieres, amor?</td>\n",
       "      <td>6</td>\n",
       "    </tr>\n",
       "    <tr>\n",
       "      <td>95537</td>\n",
       "      <td>Ã?Â?ber das Fernsehen.</td>\n",
       "      <td>8</td>\n",
       "    </tr>\n",
       "    <tr>\n",
       "      <td>95538</td>\n",
       "      <td>Ã?Â?ber die Pflicht zum Ungehorsam gegen den S...</td>\n",
       "      <td>7</td>\n",
       "    </tr>\n",
       "    <tr>\n",
       "      <td>95539</td>\n",
       "      <td>Ã?Â?lpiraten.</td>\n",
       "      <td>9</td>\n",
       "    </tr>\n",
       "  </tbody>\n",
       "</table>\n",
       "<p>95540 rows × 2 columns</p>\n",
       "</div>"
      ],
      "text/plain": [
       "                                              Book-Title  Book-Rating\n",
       "0       A Light in the Storm: The Civil War Diary of ...            7\n",
       "1                                  Always Have Popsicles            9\n",
       "2                   Apple Magic (The Collector's series)           10\n",
       "3       Beyond IBM: Leadership Marketing and Finance ...           10\n",
       "4                                           Dark Justice           10\n",
       "...                                                  ...          ...\n",
       "95535             Â¿Eres tu mi mamÃ¡?/Are You My Mother?            9\n",
       "95536                           Â¿QuÃ© me quieres, amor?            6\n",
       "95537                             Ã?Â?ber das Fernsehen.            8\n",
       "95538  Ã?Â?ber die Pflicht zum Ungehorsam gegen den S...            7\n",
       "95539                                      Ã?Â?lpiraten.            9\n",
       "\n",
       "[95540 rows x 2 columns]"
      ]
     },
     "execution_count": 57,
     "metadata": {},
     "output_type": "execute_result"
    }
   ],
   "source": [
    "users=userData[userData[\"User-ID\"].isin(userCount[userCount>=1000].index)]\n",
    "fUsers=users.groupby(\"Book-Title\")[\"Book-Rating\"].sum().reset_index()\n",
    "fUsers"
   ]
  },
  {
   "cell_type": "code",
   "execution_count": 58,
   "metadata": {},
   "outputs": [
    {
     "data": {
      "text/html": [
       "<div>\n",
       "<style scoped>\n",
       "    .dataframe tbody tr th:only-of-type {\n",
       "        vertical-align: middle;\n",
       "    }\n",
       "\n",
       "    .dataframe tbody tr th {\n",
       "        vertical-align: top;\n",
       "    }\n",
       "\n",
       "    .dataframe thead th {\n",
       "        text-align: right;\n",
       "    }\n",
       "</style>\n",
       "<table border=\"1\" class=\"dataframe\">\n",
       "  <thead>\n",
       "    <tr style=\"text-align: right;\">\n",
       "      <th></th>\n",
       "      <th>Book-Title</th>\n",
       "      <th>Book-Rating</th>\n",
       "    </tr>\n",
       "  </thead>\n",
       "  <tbody>\n",
       "    <tr>\n",
       "      <td>252</td>\n",
       "      <td>16 Lighthouse Road</td>\n",
       "      <td>131</td>\n",
       "    </tr>\n",
       "    <tr>\n",
       "      <td>273</td>\n",
       "      <td>1984</td>\n",
       "      <td>138</td>\n",
       "    </tr>\n",
       "    <tr>\n",
       "      <td>288</td>\n",
       "      <td>1st to Die: A Novel</td>\n",
       "      <td>295</td>\n",
       "    </tr>\n",
       "    <tr>\n",
       "      <td>335</td>\n",
       "      <td>2010: Odyssey Two</td>\n",
       "      <td>143</td>\n",
       "    </tr>\n",
       "    <tr>\n",
       "      <td>340</td>\n",
       "      <td>204 Rosewood Lane</td>\n",
       "      <td>159</td>\n",
       "    </tr>\n",
       "    <tr>\n",
       "      <td>...</td>\n",
       "      <td>...</td>\n",
       "      <td>...</td>\n",
       "    </tr>\n",
       "    <tr>\n",
       "      <td>95019</td>\n",
       "      <td>You Belong To Me</td>\n",
       "      <td>199</td>\n",
       "    </tr>\n",
       "    <tr>\n",
       "      <td>95184</td>\n",
       "      <td>Young Wives</td>\n",
       "      <td>107</td>\n",
       "    </tr>\n",
       "    <tr>\n",
       "      <td>95369</td>\n",
       "      <td>Zen and the Art of Motorcycle Maintenance: An ...</td>\n",
       "      <td>116</td>\n",
       "    </tr>\n",
       "    <tr>\n",
       "      <td>95442</td>\n",
       "      <td>Zoya</td>\n",
       "      <td>177</td>\n",
       "    </tr>\n",
       "    <tr>\n",
       "      <td>95486</td>\n",
       "      <td>\\O\\\" Is for Outlaw\"</td>\n",
       "      <td>265</td>\n",
       "    </tr>\n",
       "  </tbody>\n",
       "</table>\n",
       "<p>1360 rows × 2 columns</p>\n",
       "</div>"
      ],
      "text/plain": [
       "                                              Book-Title  Book-Rating\n",
       "252                                   16 Lighthouse Road          131\n",
       "273                                                 1984          138\n",
       "288                                  1st to Die: A Novel          295\n",
       "335                                    2010: Odyssey Two          143\n",
       "340                                    204 Rosewood Lane          159\n",
       "...                                                  ...          ...\n",
       "95019                                   You Belong To Me          199\n",
       "95184                                        Young Wives          107\n",
       "95369  Zen and the Art of Motorcycle Maintenance: An ...          116\n",
       "95442                                               Zoya          177\n",
       "95486                                \\O\\\" Is for Outlaw\"          265\n",
       "\n",
       "[1360 rows x 2 columns]"
      ]
     },
     "execution_count": 58,
     "metadata": {},
     "output_type": "execute_result"
    }
   ],
   "source": [
    "books=fUsers[fUsers[\"Book-Rating\"]>100]\n",
    "books"
   ]
  },
  {
   "cell_type": "code",
   "execution_count": 59,
   "metadata": {},
   "outputs": [
    {
     "data": {
      "text/html": [
       "<div>\n",
       "<style scoped>\n",
       "    .dataframe tbody tr th:only-of-type {\n",
       "        vertical-align: middle;\n",
       "    }\n",
       "\n",
       "    .dataframe tbody tr th {\n",
       "        vertical-align: top;\n",
       "    }\n",
       "\n",
       "    .dataframe thead th {\n",
       "        text-align: right;\n",
       "    }\n",
       "</style>\n",
       "<table border=\"1\" class=\"dataframe\">\n",
       "  <thead>\n",
       "    <tr style=\"text-align: right;\">\n",
       "      <th></th>\n",
       "      <th>User-ID</th>\n",
       "      <th>ISBN</th>\n",
       "      <th>Book-Rating</th>\n",
       "      <th>Location</th>\n",
       "      <th>Book-Title</th>\n",
       "      <th>Book-Author</th>\n",
       "      <th>Year-Of-Publication</th>\n",
       "      <th>Publisher</th>\n",
       "    </tr>\n",
       "  </thead>\n",
       "  <tbody>\n",
       "    <tr>\n",
       "      <td>63</td>\n",
       "      <td>278418</td>\n",
       "      <td>0446520802</td>\n",
       "      <td>5</td>\n",
       "      <td>omaha, nebraska, usa</td>\n",
       "      <td>The Notebook</td>\n",
       "      <td>Nicholas Sparks</td>\n",
       "      <td>1996</td>\n",
       "      <td>Warner Books</td>\n",
       "    </tr>\n",
       "    <tr>\n",
       "      <td>69</td>\n",
       "      <td>11676</td>\n",
       "      <td>0446520802</td>\n",
       "      <td>10</td>\n",
       "      <td>n/a, n/a, n/a</td>\n",
       "      <td>The Notebook</td>\n",
       "      <td>Nicholas Sparks</td>\n",
       "      <td>1996</td>\n",
       "      <td>Warner Books</td>\n",
       "    </tr>\n",
       "    <tr>\n",
       "      <td>74</td>\n",
       "      <td>23768</td>\n",
       "      <td>0446520802</td>\n",
       "      <td>6</td>\n",
       "      <td>st. louis, missouri, usa</td>\n",
       "      <td>The Notebook</td>\n",
       "      <td>Nicholas Sparks</td>\n",
       "      <td>1996</td>\n",
       "      <td>Warner Books</td>\n",
       "    </tr>\n",
       "    <tr>\n",
       "      <td>100</td>\n",
       "      <td>102967</td>\n",
       "      <td>0446520802</td>\n",
       "      <td>9</td>\n",
       "      <td>olympia, washington, usa</td>\n",
       "      <td>The Notebook</td>\n",
       "      <td>Nicholas Sparks</td>\n",
       "      <td>1996</td>\n",
       "      <td>Warner Books</td>\n",
       "    </tr>\n",
       "    <tr>\n",
       "      <td>124</td>\n",
       "      <td>158295</td>\n",
       "      <td>0446520802</td>\n",
       "      <td>8</td>\n",
       "      <td>cleveland, ohio, usa</td>\n",
       "      <td>The Notebook</td>\n",
       "      <td>Nicholas Sparks</td>\n",
       "      <td>1996</td>\n",
       "      <td>Warner Books</td>\n",
       "    </tr>\n",
       "    <tr>\n",
       "      <td>...</td>\n",
       "      <td>...</td>\n",
       "      <td>...</td>\n",
       "      <td>...</td>\n",
       "      <td>...</td>\n",
       "      <td>...</td>\n",
       "      <td>...</td>\n",
       "      <td>...</td>\n",
       "      <td>...</td>\n",
       "    </tr>\n",
       "    <tr>\n",
       "      <td>1027923</td>\n",
       "      <td>269566</td>\n",
       "      <td>0670809381</td>\n",
       "      <td>6</td>\n",
       "      <td>seattle, washington, usa</td>\n",
       "      <td>Echoes</td>\n",
       "      <td>Maeve Binchy</td>\n",
       "      <td>1986</td>\n",
       "      <td>Penguin USA</td>\n",
       "    </tr>\n",
       "    <tr>\n",
       "      <td>1028777</td>\n",
       "      <td>271284</td>\n",
       "      <td>0440910927</td>\n",
       "      <td>5</td>\n",
       "      <td>alexandria, virginia, usa</td>\n",
       "      <td>The Rainmaker</td>\n",
       "      <td>John Grisham</td>\n",
       "      <td>1995</td>\n",
       "      <td>Island</td>\n",
       "    </tr>\n",
       "    <tr>\n",
       "      <td>1029947</td>\n",
       "      <td>274061</td>\n",
       "      <td>1551663147</td>\n",
       "      <td>10</td>\n",
       "      <td>gahanna/columbus, ohio, usa</td>\n",
       "      <td>Fever</td>\n",
       "      <td>Elizabeth Lowell</td>\n",
       "      <td>1997</td>\n",
       "      <td>Mira</td>\n",
       "    </tr>\n",
       "    <tr>\n",
       "      <td>1030824</td>\n",
       "      <td>275970</td>\n",
       "      <td>0865714215</td>\n",
       "      <td>8</td>\n",
       "      <td>pittsburgh, pennsylvania, usa</td>\n",
       "      <td>Stormy Weather</td>\n",
       "      <td>Guy Dauncey</td>\n",
       "      <td>2001</td>\n",
       "      <td>New Society Publishers</td>\n",
       "    </tr>\n",
       "    <tr>\n",
       "      <td>1030868</td>\n",
       "      <td>275970</td>\n",
       "      <td>1586210661</td>\n",
       "      <td>9</td>\n",
       "      <td>pittsburgh, pennsylvania, usa</td>\n",
       "      <td>Me Talk Pretty One Day</td>\n",
       "      <td>David Sedaris</td>\n",
       "      <td>2001</td>\n",
       "      <td>Time Warner Audio Major</td>\n",
       "    </tr>\n",
       "  </tbody>\n",
       "</table>\n",
       "<p>28794 rows × 8 columns</p>\n",
       "</div>"
      ],
      "text/plain": [
       "         User-ID        ISBN  Book-Rating                       Location  \\\n",
       "63        278418  0446520802            5           omaha, nebraska, usa   \n",
       "69         11676  0446520802           10                  n/a, n/a, n/a   \n",
       "74         23768  0446520802            6       st. louis, missouri, usa   \n",
       "100       102967  0446520802            9       olympia, washington, usa   \n",
       "124       158295  0446520802            8           cleveland, ohio, usa   \n",
       "...          ...         ...          ...                            ...   \n",
       "1027923   269566  0670809381            6       seattle, washington, usa   \n",
       "1028777   271284  0440910927            5      alexandria, virginia, usa   \n",
       "1029947   274061  1551663147           10    gahanna/columbus, ohio, usa   \n",
       "1030824   275970  0865714215            8  pittsburgh, pennsylvania, usa   \n",
       "1030868   275970  1586210661            9  pittsburgh, pennsylvania, usa   \n",
       "\n",
       "                     Book-Title       Book-Author  Year-Of-Publication  \\\n",
       "63                 The Notebook   Nicholas Sparks                 1996   \n",
       "69                 The Notebook   Nicholas Sparks                 1996   \n",
       "74                 The Notebook   Nicholas Sparks                 1996   \n",
       "100                The Notebook   Nicholas Sparks                 1996   \n",
       "124                The Notebook   Nicholas Sparks                 1996   \n",
       "...                         ...               ...                  ...   \n",
       "1027923                  Echoes      Maeve Binchy                 1986   \n",
       "1028777           The Rainmaker      John Grisham                 1995   \n",
       "1029947                   Fever  Elizabeth Lowell                 1997   \n",
       "1030824          Stormy Weather       Guy Dauncey                 2001   \n",
       "1030868  Me Talk Pretty One Day     David Sedaris                 2001   \n",
       "\n",
       "                       Publisher  \n",
       "63                  Warner Books  \n",
       "69                  Warner Books  \n",
       "74                  Warner Books  \n",
       "100                 Warner Books  \n",
       "124                 Warner Books  \n",
       "...                          ...  \n",
       "1027923              Penguin USA  \n",
       "1028777                   Island  \n",
       "1029947                     Mira  \n",
       "1030824   New Society Publishers  \n",
       "1030868  Time Warner Audio Major  \n",
       "\n",
       "[28794 rows x 8 columns]"
      ]
     },
     "execution_count": 59,
     "metadata": {},
     "output_type": "execute_result"
    }
   ],
   "source": [
    "datamat=users[users[\"Book-Title\"].isin(books[\"Book-Title\"])]\n",
    "datamat"
   ]
  },
  {
   "cell_type": "markdown",
   "metadata": {},
   "source": [
    "## User Filtering"
   ]
  },
  {
   "cell_type": "code",
   "execution_count": 60,
   "metadata": {},
   "outputs": [
    {
     "data": {
      "text/html": [
       "<div>\n",
       "<style scoped>\n",
       "    .dataframe tbody tr th:only-of-type {\n",
       "        vertical-align: middle;\n",
       "    }\n",
       "\n",
       "    .dataframe tbody tr th {\n",
       "        vertical-align: top;\n",
       "    }\n",
       "\n",
       "    .dataframe thead th {\n",
       "        text-align: right;\n",
       "    }\n",
       "</style>\n",
       "<table border=\"1\" class=\"dataframe\">\n",
       "  <thead>\n",
       "    <tr style=\"text-align: right;\">\n",
       "      <th>ISBN</th>\n",
       "      <th>0001047973</th>\n",
       "      <th>0006170056</th>\n",
       "      <th>000648302X</th>\n",
       "      <th>002026478X</th>\n",
       "      <th>0020442203</th>\n",
       "      <th>002542730X</th>\n",
       "      <th>002542730x</th>\n",
       "      <th>0060008024</th>\n",
       "      <th>0060008032</th>\n",
       "      <th>0060009241</th>\n",
       "      <th>...</th>\n",
       "      <th>1932234039</th>\n",
       "      <th>2070512541</th>\n",
       "      <th>2253170828</th>\n",
       "      <th>2253172324</th>\n",
       "      <th>3257208626</th>\n",
       "      <th>5552034341</th>\n",
       "      <th>843761449X</th>\n",
       "      <th>B00001IVC7</th>\n",
       "      <th>B00007CWQC</th>\n",
       "      <th>B0000T6KHI</th>\n",
       "    </tr>\n",
       "    <tr>\n",
       "      <th>User-ID</th>\n",
       "      <th></th>\n",
       "      <th></th>\n",
       "      <th></th>\n",
       "      <th></th>\n",
       "      <th></th>\n",
       "      <th></th>\n",
       "      <th></th>\n",
       "      <th></th>\n",
       "      <th></th>\n",
       "      <th></th>\n",
       "      <th></th>\n",
       "      <th></th>\n",
       "      <th></th>\n",
       "      <th></th>\n",
       "      <th></th>\n",
       "      <th></th>\n",
       "      <th></th>\n",
       "      <th></th>\n",
       "      <th></th>\n",
       "      <th></th>\n",
       "      <th></th>\n",
       "    </tr>\n",
       "  </thead>\n",
       "  <tbody>\n",
       "    <tr>\n",
       "      <td>11601</td>\n",
       "      <td>0.0</td>\n",
       "      <td>0.0</td>\n",
       "      <td>0.0</td>\n",
       "      <td>0.0</td>\n",
       "      <td>0.0</td>\n",
       "      <td>0.0</td>\n",
       "      <td>0.0</td>\n",
       "      <td>0.0</td>\n",
       "      <td>0.0</td>\n",
       "      <td>0.0</td>\n",
       "      <td>...</td>\n",
       "      <td>0.0</td>\n",
       "      <td>0.0</td>\n",
       "      <td>0.0</td>\n",
       "      <td>0.0</td>\n",
       "      <td>0.0</td>\n",
       "      <td>0.0</td>\n",
       "      <td>0.0</td>\n",
       "      <td>0.0</td>\n",
       "      <td>0.0</td>\n",
       "      <td>0.0</td>\n",
       "    </tr>\n",
       "    <tr>\n",
       "      <td>11676</td>\n",
       "      <td>0.0</td>\n",
       "      <td>0.0</td>\n",
       "      <td>8.0</td>\n",
       "      <td>0.0</td>\n",
       "      <td>0.0</td>\n",
       "      <td>6.0</td>\n",
       "      <td>0.0</td>\n",
       "      <td>8.0</td>\n",
       "      <td>8.0</td>\n",
       "      <td>8.0</td>\n",
       "      <td>...</td>\n",
       "      <td>0.0</td>\n",
       "      <td>7.0</td>\n",
       "      <td>5.0</td>\n",
       "      <td>7.0</td>\n",
       "      <td>8.0</td>\n",
       "      <td>0.0</td>\n",
       "      <td>8.0</td>\n",
       "      <td>0.0</td>\n",
       "      <td>0.0</td>\n",
       "      <td>0.0</td>\n",
       "    </tr>\n",
       "    <tr>\n",
       "      <td>12538</td>\n",
       "      <td>0.0</td>\n",
       "      <td>0.0</td>\n",
       "      <td>0.0</td>\n",
       "      <td>0.0</td>\n",
       "      <td>0.0</td>\n",
       "      <td>10.0</td>\n",
       "      <td>0.0</td>\n",
       "      <td>0.0</td>\n",
       "      <td>0.0</td>\n",
       "      <td>0.0</td>\n",
       "      <td>...</td>\n",
       "      <td>0.0</td>\n",
       "      <td>0.0</td>\n",
       "      <td>0.0</td>\n",
       "      <td>0.0</td>\n",
       "      <td>0.0</td>\n",
       "      <td>0.0</td>\n",
       "      <td>0.0</td>\n",
       "      <td>0.0</td>\n",
       "      <td>0.0</td>\n",
       "      <td>0.0</td>\n",
       "    </tr>\n",
       "    <tr>\n",
       "      <td>16634</td>\n",
       "      <td>0.0</td>\n",
       "      <td>0.0</td>\n",
       "      <td>0.0</td>\n",
       "      <td>0.0</td>\n",
       "      <td>9.0</td>\n",
       "      <td>0.0</td>\n",
       "      <td>0.0</td>\n",
       "      <td>0.0</td>\n",
       "      <td>0.0</td>\n",
       "      <td>0.0</td>\n",
       "      <td>...</td>\n",
       "      <td>0.0</td>\n",
       "      <td>0.0</td>\n",
       "      <td>0.0</td>\n",
       "      <td>0.0</td>\n",
       "      <td>0.0</td>\n",
       "      <td>0.0</td>\n",
       "      <td>0.0</td>\n",
       "      <td>0.0</td>\n",
       "      <td>0.0</td>\n",
       "      <td>0.0</td>\n",
       "    </tr>\n",
       "    <tr>\n",
       "      <td>16795</td>\n",
       "      <td>0.0</td>\n",
       "      <td>0.0</td>\n",
       "      <td>0.0</td>\n",
       "      <td>0.0</td>\n",
       "      <td>0.0</td>\n",
       "      <td>10.0</td>\n",
       "      <td>0.0</td>\n",
       "      <td>0.0</td>\n",
       "      <td>8.0</td>\n",
       "      <td>8.0</td>\n",
       "      <td>...</td>\n",
       "      <td>0.0</td>\n",
       "      <td>0.0</td>\n",
       "      <td>0.0</td>\n",
       "      <td>0.0</td>\n",
       "      <td>0.0</td>\n",
       "      <td>0.0</td>\n",
       "      <td>0.0</td>\n",
       "      <td>0.0</td>\n",
       "      <td>0.0</td>\n",
       "      <td>0.0</td>\n",
       "    </tr>\n",
       "  </tbody>\n",
       "</table>\n",
       "<p>5 rows × 3182 columns</p>\n",
       "</div>"
      ],
      "text/plain": [
       "ISBN     0001047973  0006170056  000648302X  002026478X  0020442203  \\\n",
       "User-ID                                                               \n",
       "11601           0.0         0.0         0.0         0.0         0.0   \n",
       "11676           0.0         0.0         8.0         0.0         0.0   \n",
       "12538           0.0         0.0         0.0         0.0         0.0   \n",
       "16634           0.0         0.0         0.0         0.0         9.0   \n",
       "16795           0.0         0.0         0.0         0.0         0.0   \n",
       "\n",
       "ISBN     002542730X  002542730x  0060008024  0060008032  0060009241  ...  \\\n",
       "User-ID                                                              ...   \n",
       "11601           0.0         0.0         0.0         0.0         0.0  ...   \n",
       "11676           6.0         0.0         8.0         8.0         8.0  ...   \n",
       "12538          10.0         0.0         0.0         0.0         0.0  ...   \n",
       "16634           0.0         0.0         0.0         0.0         0.0  ...   \n",
       "16795          10.0         0.0         0.0         8.0         8.0  ...   \n",
       "\n",
       "ISBN     1932234039  2070512541  2253170828  2253172324  3257208626  \\\n",
       "User-ID                                                               \n",
       "11601           0.0         0.0         0.0         0.0         0.0   \n",
       "11676           0.0         7.0         5.0         7.0         8.0   \n",
       "12538           0.0         0.0         0.0         0.0         0.0   \n",
       "16634           0.0         0.0         0.0         0.0         0.0   \n",
       "16795           0.0         0.0         0.0         0.0         0.0   \n",
       "\n",
       "ISBN     5552034341  843761449X  B00001IVC7  B00007CWQC  B0000T6KHI  \n",
       "User-ID                                                              \n",
       "11601           0.0         0.0         0.0         0.0         0.0  \n",
       "11676           0.0         8.0         0.0         0.0         0.0  \n",
       "12538           0.0         0.0         0.0         0.0         0.0  \n",
       "16634           0.0         0.0         0.0         0.0         0.0  \n",
       "16795           0.0         0.0         0.0         0.0         0.0  \n",
       "\n",
       "[5 rows x 3182 columns]"
      ]
     },
     "execution_count": 60,
     "metadata": {},
     "output_type": "execute_result"
    }
   ],
   "source": [
    "userMatrix=datamat.pivot(index=\"User-ID\",columns=\"ISBN\",values=\"Book-Rating\")\n",
    "userMatrix.fillna(0,inplace=True)\n",
    "userMatrix.head()"
   ]
  },
  {
   "cell_type": "markdown",
   "metadata": {},
   "source": [
    "### Computing Cosine Similarity"
   ]
  },
  {
   "cell_type": "code",
   "execution_count": 61,
   "metadata": {},
   "outputs": [],
   "source": [
    "cossimUsers = cosine_similarity(userMatrix)\n",
    "np.fill_diagonal(cossimUsers,0) \n",
    "cosUser=pd.DataFrame(cossimUsers,index=userMatrix.index)\n",
    "cosUser.columns=userMatrix.index"
   ]
  },
  {
   "cell_type": "markdown",
   "metadata": {},
   "source": [
    "### Finding books for user"
   ]
  },
  {
   "cell_type": "code",
   "execution_count": 62,
   "metadata": {},
   "outputs": [],
   "source": [
    "def book_recommender(userid,n):\n",
    "    if (userid not in cosUser.index.values):\n",
    "        return ('User must be from interaction matrix.' + '\\n' + 'Please refer this list: ' + np.array_str(cosUser.index.values))\n",
    "    else:\n",
    "        arr=np.array(cosUser[userid].sort_values(ascending=False).head(5).index)\n",
    "        rlist=[]\n",
    "        for i in arr:\n",
    "            rlist.append(datamat[datamat[\"User-ID\"]==i][[\"Book-Title\",\"Book-Rating\"]].sort_values(by=\"Book-Rating\",ascending=False))    \n",
    "        books = pd.Series(rlist[0].append([rlist[1],rlist[2],rlist[3],rlist[4]]).groupby(\"Book-Title\")[\"Book-Rating\"].mean().sort_values(ascending=False).index).head(n).to_numpy()\n",
    "        return books"
   ]
  },
  {
   "cell_type": "code",
   "execution_count": 63,
   "metadata": {},
   "outputs": [
    {
     "name": "stdout",
     "output_type": "stream",
     "text": [
      "['The Celestine Prophecy (Celestine Prophecy)'\n",
      " 'Taltos: Lives of the Mayfair Witches'\n",
      " 'Stupid White Men ...and Other Sorry Excuses for the State of the Nation!'\n",
      " 'The Passion' 'The Outsiders']\n"
     ]
    }
   ],
   "source": [
    "print(book_recommender(11601,5))"
   ]
  },
  {
   "cell_type": "markdown",
   "metadata": {},
   "source": [
    "### Item Filtering"
   ]
  },
  {
   "cell_type": "code",
   "execution_count": 64,
   "metadata": {
    "scrolled": true
   },
   "outputs": [
    {
     "data": {
      "text/html": [
       "<div>\n",
       "<style scoped>\n",
       "    .dataframe tbody tr th:only-of-type {\n",
       "        vertical-align: middle;\n",
       "    }\n",
       "\n",
       "    .dataframe tbody tr th {\n",
       "        vertical-align: top;\n",
       "    }\n",
       "\n",
       "    .dataframe thead th {\n",
       "        text-align: right;\n",
       "    }\n",
       "</style>\n",
       "<table border=\"1\" class=\"dataframe\">\n",
       "  <thead>\n",
       "    <tr style=\"text-align: right;\">\n",
       "      <th>User-ID</th>\n",
       "      <th>11601</th>\n",
       "      <th>11676</th>\n",
       "      <th>12538</th>\n",
       "      <th>16634</th>\n",
       "      <th>16795</th>\n",
       "      <th>23768</th>\n",
       "      <th>23902</th>\n",
       "      <th>26544</th>\n",
       "      <th>31315</th>\n",
       "      <th>31556</th>\n",
       "      <th>...</th>\n",
       "      <th>254465</th>\n",
       "      <th>257204</th>\n",
       "      <th>265115</th>\n",
       "      <th>266226</th>\n",
       "      <th>269566</th>\n",
       "      <th>271284</th>\n",
       "      <th>274061</th>\n",
       "      <th>274308</th>\n",
       "      <th>275970</th>\n",
       "      <th>278418</th>\n",
       "    </tr>\n",
       "    <tr>\n",
       "      <th>ISBN</th>\n",
       "      <th></th>\n",
       "      <th></th>\n",
       "      <th></th>\n",
       "      <th></th>\n",
       "      <th></th>\n",
       "      <th></th>\n",
       "      <th></th>\n",
       "      <th></th>\n",
       "      <th></th>\n",
       "      <th></th>\n",
       "      <th></th>\n",
       "      <th></th>\n",
       "      <th></th>\n",
       "      <th></th>\n",
       "      <th></th>\n",
       "      <th></th>\n",
       "      <th></th>\n",
       "      <th></th>\n",
       "      <th></th>\n",
       "      <th></th>\n",
       "      <th></th>\n",
       "    </tr>\n",
       "  </thead>\n",
       "  <tbody>\n",
       "    <tr>\n",
       "      <td>0001047973</td>\n",
       "      <td>0.0</td>\n",
       "      <td>0.0</td>\n",
       "      <td>0.0</td>\n",
       "      <td>0.0</td>\n",
       "      <td>0.0</td>\n",
       "      <td>0.0</td>\n",
       "      <td>9.0</td>\n",
       "      <td>0.0</td>\n",
       "      <td>0.0</td>\n",
       "      <td>0.0</td>\n",
       "      <td>...</td>\n",
       "      <td>0.0</td>\n",
       "      <td>0.0</td>\n",
       "      <td>0.0</td>\n",
       "      <td>0.0</td>\n",
       "      <td>0.0</td>\n",
       "      <td>0.0</td>\n",
       "      <td>0.0</td>\n",
       "      <td>0.0</td>\n",
       "      <td>0.0</td>\n",
       "      <td>0.0</td>\n",
       "    </tr>\n",
       "    <tr>\n",
       "      <td>0006170056</td>\n",
       "      <td>0.0</td>\n",
       "      <td>0.0</td>\n",
       "      <td>0.0</td>\n",
       "      <td>0.0</td>\n",
       "      <td>0.0</td>\n",
       "      <td>0.0</td>\n",
       "      <td>0.0</td>\n",
       "      <td>0.0</td>\n",
       "      <td>0.0</td>\n",
       "      <td>0.0</td>\n",
       "      <td>...</td>\n",
       "      <td>0.0</td>\n",
       "      <td>0.0</td>\n",
       "      <td>0.0</td>\n",
       "      <td>0.0</td>\n",
       "      <td>0.0</td>\n",
       "      <td>0.0</td>\n",
       "      <td>0.0</td>\n",
       "      <td>0.0</td>\n",
       "      <td>0.0</td>\n",
       "      <td>0.0</td>\n",
       "    </tr>\n",
       "    <tr>\n",
       "      <td>000648302X</td>\n",
       "      <td>0.0</td>\n",
       "      <td>8.0</td>\n",
       "      <td>0.0</td>\n",
       "      <td>0.0</td>\n",
       "      <td>0.0</td>\n",
       "      <td>0.0</td>\n",
       "      <td>0.0</td>\n",
       "      <td>0.0</td>\n",
       "      <td>0.0</td>\n",
       "      <td>0.0</td>\n",
       "      <td>...</td>\n",
       "      <td>0.0</td>\n",
       "      <td>0.0</td>\n",
       "      <td>0.0</td>\n",
       "      <td>0.0</td>\n",
       "      <td>0.0</td>\n",
       "      <td>0.0</td>\n",
       "      <td>0.0</td>\n",
       "      <td>0.0</td>\n",
       "      <td>0.0</td>\n",
       "      <td>0.0</td>\n",
       "    </tr>\n",
       "    <tr>\n",
       "      <td>002026478X</td>\n",
       "      <td>0.0</td>\n",
       "      <td>0.0</td>\n",
       "      <td>0.0</td>\n",
       "      <td>0.0</td>\n",
       "      <td>0.0</td>\n",
       "      <td>0.0</td>\n",
       "      <td>0.0</td>\n",
       "      <td>0.0</td>\n",
       "      <td>0.0</td>\n",
       "      <td>0.0</td>\n",
       "      <td>...</td>\n",
       "      <td>0.0</td>\n",
       "      <td>0.0</td>\n",
       "      <td>0.0</td>\n",
       "      <td>0.0</td>\n",
       "      <td>8.0</td>\n",
       "      <td>0.0</td>\n",
       "      <td>0.0</td>\n",
       "      <td>0.0</td>\n",
       "      <td>0.0</td>\n",
       "      <td>0.0</td>\n",
       "    </tr>\n",
       "    <tr>\n",
       "      <td>0020442203</td>\n",
       "      <td>0.0</td>\n",
       "      <td>0.0</td>\n",
       "      <td>0.0</td>\n",
       "      <td>9.0</td>\n",
       "      <td>0.0</td>\n",
       "      <td>9.0</td>\n",
       "      <td>0.0</td>\n",
       "      <td>0.0</td>\n",
       "      <td>0.0</td>\n",
       "      <td>0.0</td>\n",
       "      <td>...</td>\n",
       "      <td>0.0</td>\n",
       "      <td>0.0</td>\n",
       "      <td>0.0</td>\n",
       "      <td>0.0</td>\n",
       "      <td>10.0</td>\n",
       "      <td>0.0</td>\n",
       "      <td>0.0</td>\n",
       "      <td>0.0</td>\n",
       "      <td>0.0</td>\n",
       "      <td>9.0</td>\n",
       "    </tr>\n",
       "  </tbody>\n",
       "</table>\n",
       "<p>5 rows × 106 columns</p>\n",
       "</div>"
      ],
      "text/plain": [
       "User-ID     11601   11676   12538   16634   16795   23768   23902   26544   \\\n",
       "ISBN                                                                         \n",
       "0001047973     0.0     0.0     0.0     0.0     0.0     0.0     9.0     0.0   \n",
       "0006170056     0.0     0.0     0.0     0.0     0.0     0.0     0.0     0.0   \n",
       "000648302X     0.0     8.0     0.0     0.0     0.0     0.0     0.0     0.0   \n",
       "002026478X     0.0     0.0     0.0     0.0     0.0     0.0     0.0     0.0   \n",
       "0020442203     0.0     0.0     0.0     9.0     0.0     9.0     0.0     0.0   \n",
       "\n",
       "User-ID     31315   31556   ...  254465  257204  265115  266226  269566  \\\n",
       "ISBN                        ...                                           \n",
       "0001047973     0.0     0.0  ...     0.0     0.0     0.0     0.0     0.0   \n",
       "0006170056     0.0     0.0  ...     0.0     0.0     0.0     0.0     0.0   \n",
       "000648302X     0.0     0.0  ...     0.0     0.0     0.0     0.0     0.0   \n",
       "002026478X     0.0     0.0  ...     0.0     0.0     0.0     0.0     8.0   \n",
       "0020442203     0.0     0.0  ...     0.0     0.0     0.0     0.0    10.0   \n",
       "\n",
       "User-ID     271284  274061  274308  275970  278418  \n",
       "ISBN                                                \n",
       "0001047973     0.0     0.0     0.0     0.0     0.0  \n",
       "0006170056     0.0     0.0     0.0     0.0     0.0  \n",
       "000648302X     0.0     0.0     0.0     0.0     0.0  \n",
       "002026478X     0.0     0.0     0.0     0.0     0.0  \n",
       "0020442203     0.0     0.0     0.0     0.0     9.0  \n",
       "\n",
       "[5 rows x 106 columns]"
      ]
     },
     "execution_count": 64,
     "metadata": {},
     "output_type": "execute_result"
    }
   ],
   "source": [
    "matrixItem=datamat.pivot(index=\"ISBN\",columns=\"User-ID\",values=\"Book-Rating\")\n",
    "matrixItem.fillna(0,inplace=True)\n",
    "matrixItem.head()"
   ]
  },
  {
   "cell_type": "code",
   "execution_count": 65,
   "metadata": {},
   "outputs": [],
   "source": [
    "cossimItem = cosine_similarity(matrixItem)\n",
    "np.fill_diagonal(cossimItem,0) \n",
    "cosItem=pd.DataFrame(cossimItem,index=matrixItem.index)\n",
    "cosItem.columns=matrixItem.index"
   ]
  },
  {
   "cell_type": "code",
   "execution_count": 66,
   "metadata": {},
   "outputs": [],
   "source": [
    "def item_recommender(bookname,rating):\n",
    "    if (bookname not in cosItem.index.values):\n",
    "        return ('Book no must be from interaction matrix.' + '\\n' + 'Please refer this list: ' +np.array2string(cosItem.index.values, precision=2, separator=',', max_line_width=15) )\n",
    "    else:\n",
    "        similarbooks= cosItem[bookname]*(rating-3)\n",
    "        similarbooks= similarbooks.sort_values(ascending=False)\n",
    "        return similarbooks.head(10).index.to_numpy()"
   ]
  },
  {
   "cell_type": "markdown",
   "metadata": {},
   "source": [
    "### UI for system"
   ]
  },
  {
   "cell_type": "code",
   "execution_count": 67,
   "metadata": {},
   "outputs": [],
   "source": [
    "import tkinter as tk\n",
    "root= tk.Tk()\n",
    "root.title(\"Recommendation Systems\")\n",
    "root.geometry(\"800x650\")\n",
    "heading = tk.Label(root,text=\"Intorduction to Machine Learning - CSE574\",font=(None,24))\n",
    "heading.pack()\n",
    "subheading = tk.Label(root,text=\"Recommendation Engine\",font=(None,18))\n",
    "subheading.pack()\n",
    "def change(*args):\n",
    "    if var.get()==OptionList[0]:\n",
    "        clearFrame()\n",
    "        label = tk.Label(frame,text=\"UserID\")\n",
    "        entry = tk.Entry(frame)\n",
    "        label.pack()\n",
    "        entry.pack()\n",
    "        label1 = tk.Label(frame,text=\"No of books\")\n",
    "        entry1 = tk.Entry(frame)\n",
    "        label1.pack()\n",
    "        entry1.pack()\n",
    "        result = StringVar()\n",
    "        result.set('')\n",
    "        def searchBook(userid,value):\n",
    "            try:\n",
    "                userid = int(userid)\n",
    "                value = int(value)\n",
    "                if value <= 0 or value > 10:\n",
    "                        raise ValueError\n",
    "                books = book_recommender(userid,value)\n",
    "                if type(books) == str:\n",
    "                    result.set(books)\n",
    "                else:\n",
    "                    n = len(books)\n",
    "                    result1 = 'Books Recommended:' + '\\n\\n'\n",
    "                    for i in range(n):\n",
    "                        result1 = result1 + 'Book' + str(i+1)+': ' + books[i]+'\\n\\n' \n",
    "                    result.set(result1)\n",
    "            except ValueError or Exception:\n",
    "                messagebox.showerror(\"Error\", \"You didn't enter either UserId or Number of books correctly\")\n",
    "        button =tk.Button(frame,text='Search', command= lambda: searchBook(entry.get(),entry1.get()))\n",
    "        button.pack()\n",
    "        text = tk.Label(frame, textvariable = result)\n",
    "        text.pack()\n",
    "    elif var.get()==OptionList[1]:\n",
    "        clearFrame()\n",
    "        labelItem = tk.Label(frame,text=\"Book ISBN Number\")\n",
    "        entryItem = tk.Entry(frame)\n",
    "        labelItem.pack()\n",
    "        entryItem.pack()\n",
    "        labelItem1 = tk.Label(frame,text=\"Ratings\")\n",
    "        entryItem1 = tk.Entry(frame)\n",
    "        labelItem1.pack()\n",
    "        entryItem1.pack()\n",
    "        resultItem = StringVar()\n",
    "        resultItem.set('')\n",
    "        def searchItem(bookno,rating):\n",
    "            try:\n",
    "                rating = int(rating)\n",
    "                if (rating <= 0 or rating > 10) or bookno=='':\n",
    "                        raise ValueError\n",
    "                item = item_recommender(bookno,rating)\n",
    "                if type(item) == str:\n",
    "                    resultItem.set(item)\n",
    "                else:\n",
    "                    n1 = len(item)\n",
    "                    resultItem1 = 'Similar Books:' + '\\n\\n'\n",
    "                    for i in range(n1):\n",
    "                        resultItem1 = resultItem1 + 'Book' + str(i+1)+': ' + item[i]+'\\n\\n' \n",
    "                    resultItem.set(resultItem1)\n",
    "            except ValueError or Exception:\n",
    "                messagebox.showerror(\"Error\", \"You didn't enter either Book ISBN number or Ratings correctly\")\n",
    "        \n",
    "        \n",
    "        buttonItem =tk.Button(frame,text='Search', command= lambda: searchItem(entryItem.get(),entryItem1.get()))\n",
    "        buttonItem.pack()\n",
    "        textItem = tk.Label(frame, textvariable = resultItem)\n",
    "        textItem.pack()\n",
    "\n",
    "\n",
    "frame= tk.Frame(root)\n",
    "frame.place(relx=0.1,rely=0.2,relwidth=0.8,relheight=0.8)\n",
    "\n",
    "def clearFrame():\n",
    "    for widget in frame.winfo_children():\n",
    "        widget.destroy()\n",
    "\n",
    "OptionList = [\"User Filtering\",\"Item Filtering\"]\n",
    "var = tk.StringVar()\n",
    "var.set(\"Choose your filterting\")\n",
    "var.trace(\"w\",change)\n",
    "\n",
    "drop= tk.OptionMenu(root,var,*OptionList)\n",
    "drop.pack()\n",
    "\n",
    "root.mainloop()"
   ]
  }
 ],
 "metadata": {
  "kernelspec": {
   "display_name": "Python 3",
   "language": "python",
   "name": "python3"
  },
  "language_info": {
   "codemirror_mode": {
    "name": "ipython",
    "version": 3
   },
   "file_extension": ".py",
   "mimetype": "text/x-python",
   "name": "python",
   "nbconvert_exporter": "python",
   "pygments_lexer": "ipython3",
   "version": "3.7.4"
  }
 },
 "nbformat": 4,
 "nbformat_minor": 2
}
